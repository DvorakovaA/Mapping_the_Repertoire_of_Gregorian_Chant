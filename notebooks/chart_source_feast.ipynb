{
 "cells": [
  {
   "cell_type": "code",
   "execution_count": 1,
   "metadata": {},
   "outputs": [],
   "source": [
    "import pandas as pd\n",
    "\n",
    "# Reading csv files\n",
    "responsories_all = pd.read_csv('all-ci-responsories.csv', usecols=['id', 'cantus_id', 'siglum', 'source_id', 'feast_id'], dtype={'cantus_id':\"str\"})\n",
    "antiphons_all = pd.read_csv('all-ci-antiphons.csv', usecols=['id', 'cantus_id', 'siglum', 'source_id', 'feast_id'], dtype={'cantus_id':\"str\"})\n",
    "\n",
    "sources = pd.read_csv('source.csv', usecols=['id', 'provenance_id', 'drupal_path'])\n",
    "feasts = pd.read_csv('feast.csv', usecols=['id', 'name'])\n",
    "\n",
    "# Do I want anthiphones and responsories = together staci"
   ]
  },
  {
   "cell_type": "code",
   "execution_count": 2,
   "metadata": {},
   "outputs": [],
   "source": [
    "# Add sources to data \n",
    "respo_with_sources = pd.merge(responsories_all, sources, how='inner', left_on='source_id', right_on='drupal_path')\n",
    "antipho_with_sources = pd.merge(antiphons_all, sources, how='inner', left_on='source_id', right_on='id')"
   ]
  },
  {
   "cell_type": "code",
   "execution_count": 3,
   "metadata": {},
   "outputs": [],
   "source": [
    "# Add feasts to data\n",
    "respo_with_all = pd.merge(respo_with_sources, feasts, how='inner', left_on='feast_id', right_on='id')\n",
    "antipho_with_all = pd.merge(antipho_with_sources, feasts, how='inner', left_on='feast_id', right_on='id')"
   ]
  },
  {
   "cell_type": "code",
   "execution_count": 4,
   "metadata": {},
   "outputs": [],
   "source": [
    "# Merge responsories and antiphons\n",
    "data = pd.concat([respo_with_all, antipho_with_all])"
   ]
  },
  {
   "cell_type": "code",
   "execution_count": 5,
   "metadata": {},
   "outputs": [],
   "source": [
    "# Filter sources to avoid working with fragments etc\n",
    "freq_of_sources = data['drupal_path'].value_counts()\n",
    "bigger_sources = freq_of_sources.drop(freq_of_sources[freq_of_sources.values < 100].index).index.tolist()\n",
    "sources_f = sources[sources['drupal_path'].isin(bigger_sources)]"
   ]
  },
  {
   "cell_type": "code",
   "execution_count": 6,
   "metadata": {},
   "outputs": [],
   "source": [
    "# Get data without small sources\n",
    "data_f = data[data['drupal_path'].isin(sources_f['drupal_path'])]"
   ]
  },
  {
   "cell_type": "code",
   "execution_count": 7,
   "metadata": {},
   "outputs": [],
   "source": [
    "# Dicts for feast and source ids\n",
    "from collections import OrderedDict\n",
    "source_dict = OrderedDict()\n",
    "i = 0\n",
    "for id in sources_f['drupal_path']:\n",
    "    source_dict[id] = i\n",
    "    i += 1\n",
    "\n",
    "feast_dict = OrderedDict()\n",
    "j = 0\n",
    "for id in feasts['id']:\n",
    "    feast_dict[id] = j\n",
    "    j += 1"
   ]
  },
  {
   "cell_type": "code",
   "execution_count": 8,
   "metadata": {},
   "outputs": [],
   "source": [
    "def translate_feast(feast_id):\n",
    "    return feast_dict[feast_id] \n",
    "\n",
    "def translate_source(source_id):\n",
    "    return source_dict[source_id]"
   ]
  },
  {
   "cell_type": "code",
   "execution_count": 9,
   "metadata": {},
   "outputs": [],
   "source": [
    "import numpy as np\n",
    "# Make matrix sources vs feast\n",
    "complete_chart = np.zeros([len(sources_f), len(feasts)])\n",
    "# Fill the chart (aka Bitmapa)\n",
    "for row in data_f.index:\n",
    "    complete_chart[translate_source(data_f['drupal_path'][row]), translate_feast(data_f['feast_id'][row])] = 1"
   ]
  },
  {
   "cell_type": "code",
   "execution_count": 10,
   "metadata": {},
   "outputs": [
    {
     "name": "stdout",
     "output_type": "stream",
     "text": [
      "completely shared feasts: []\n",
      "max number of sharings: 93.0\n",
      "131\n"
     ]
    }
   ],
   "source": [
    "# Take out (and store) feasts, that are in all sources\n",
    "sums = np.sum(complete_chart, axis = 0)\n",
    "num_of_sources = len(sources_f)\n",
    "\n",
    "# List of feasts shared among all sources\n",
    "shared = [i for i in range(len(sums)) if sums[i] == num_of_sources]\n",
    "\n",
    "print(\"completely shared feasts:\", shared)   # NO SHARED FEASTS???\n",
    "print(\"max number of sharings:\", max(sums))\n",
    "print(num_of_sources)"
   ]
  },
  {
   "cell_type": "markdown",
   "metadata": {},
   "source": [
    "From what is above his it seems that there are not shared feasts among all sources.  \n",
    "Most shared feast is in 99 sources out of 640.\n",
    "(After filtering of sources - we preserve once with more than 100 chants, it is max 94 sharings out of 131.)\n",
    "\n",
    "Piece of data, that may reveal possible future \"troubles\":  \n",
    "feast_0229,Comm. plurimorum Martyrum in vigilia,Eve of several Martyrs,,,,12003010,  \n",
    "feast_0230,Comm. plurimorum Martyrum in vigilia,Eve of several Martyrs,,,,12003010,  \n",
    "feast_0231,Comm. plurimorum Martyrum in vigilia,Eve of several Martyrs,,,,12003010,"
   ]
  },
  {
   "cell_type": "code",
   "execution_count": 11,
   "metadata": {},
   "outputs": [],
   "source": [
    "# Histogram\n",
    "# Percnetage of feasts where source is present\n",
    "\n",
    "# Create dict for creating df\n",
    "feast_histo_dict = {}\n",
    "for i in range(len(feasts)):\n",
    "    feast_histo_dict[feasts['id'][i]] = [feasts['name'][i], round((sums[i] / num_of_sources) * 100)]\n",
    "\n",
    "feast_histo = pd.DataFrame.from_dict(feast_histo_dict, orient='index', columns=['feast_name', 'percentage'])\n",
    "feast_histo.to_csv('feast_histo.csv')"
   ]
  },
  {
   "cell_type": "code",
   "execution_count": 12,
   "metadata": {},
   "outputs": [],
   "source": [
    "# Histogram\n",
    "# Percnetage of feasts where source is present - more important (over 10 percent) only\n",
    "\n",
    "# Create dict for creating df\n",
    "feast_histo_dict = {}\n",
    "for i in range(len(feasts)):\n",
    "    if (sums[i] / num_of_sources) * 100 > 10:\n",
    "        feast_histo_dict[feasts['id'][i]] = [feasts['name'][i], (sums[i] / num_of_sources) * 100]\n",
    "\n",
    "feast_histo = pd.DataFrame.from_dict(feast_histo_dict, orient='index', columns=['feast_name', 'percentage'])\n",
    "feast_histo.to_csv('more_feast_histo.csv')"
   ]
  },
  {
   "cell_type": "code",
   "execution_count": 13,
   "metadata": {},
   "outputs": [],
   "source": [
    "# Export chart as csv for visualisation\n",
    "df = pd.DataFrame(complete_chart)\n",
    "df.to_csv('raw_chart.csv')"
   ]
  }
 ],
 "metadata": {
  "kernelspec": {
   "display_name": "myvenv",
   "language": "python",
   "name": "python3"
  },
  "language_info": {
   "codemirror_mode": {
    "name": "ipython",
    "version": 3
   },
   "file_extension": ".py",
   "mimetype": "text/x-python",
   "name": "python",
   "nbconvert_exporter": "python",
   "pygments_lexer": "ipython3",
   "version": "3.11.6"
  }
 },
 "nbformat": 4,
 "nbformat_minor": 2
}
