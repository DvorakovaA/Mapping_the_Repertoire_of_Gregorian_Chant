{
 "cells": [
  {
   "cell_type": "code",
   "execution_count": 2,
   "metadata": {},
   "outputs": [
    {
     "name": "stdout",
     "output_type": "stream",
     "text": [
      "Index(['id', 'corpus_id', 'incipit', 'cantus_id', 'mode', 'finalis',\n",
      "       'differentia', 'siglum', 'position', 'folio', 'sequence', 'marginalia',\n",
      "       'cao_concordances', 'feast_id', 'genre_id', 'office_id', 'source_id',\n",
      "       'melody_id', 'drupal_path', 'full_text', 'full_text_manuscript',\n",
      "       'volpiano', 'notes', 'dataset_name', 'dataset_idx', 'image_link'],\n",
      "      dtype='object')\n"
     ]
    }
   ],
   "source": [
    "import pandas as pd\n",
    "\n",
    "all_data = pd.read_csv('office_genres.csv')\n",
    "print(all_data.columns)"
   ]
  },
  {
   "cell_type": "code",
   "execution_count": 3,
   "metadata": {},
   "outputs": [],
   "source": [
    "responsories_filt = all_data['genre_id'] == 'genre_r'\n",
    "responsories = all_data[responsories_filt]\n",
    "responsories.to_csv('all-ci-responsories.csv')"
   ]
  },
  {
   "cell_type": "code",
   "execution_count": 4,
   "metadata": {},
   "outputs": [],
   "source": [
    "antiphons_filt = all_data['genre_id'] == 'genre_a'\n",
    "antiphons = all_data[antiphons_filt]\n",
    "antiphons.to_csv('all-ci-antiphons.csv')"
   ]
  },
  {
   "cell_type": "code",
   "execution_count": 61,
   "metadata": {},
   "outputs": [
    {
     "name": "stdout",
     "output_type": "stream",
     "text": [
      "815\n",
      "375275\n"
     ]
    }
   ],
   "source": [
    "chants = pd.concat([antiphons, responsories])\n",
    "sources = pd.read_csv('../data/sources-of-all-ci-antiphons_OPTIONAL-CENTURY.CSV')\n",
    "print(len(sources))\n",
    "print(len(chants['source_id']))"
   ]
  },
  {
   "cell_type": "code",
   "execution_count": 60,
   "metadata": {},
   "outputs": [
    {
     "name": "stdout",
     "output_type": "stream",
     "text": [
      "1307\n"
     ]
    }
   ],
   "source": [
    "print(len(chants['feast_id'].value_counts()))"
   ]
  },
  {
   "cell_type": "code",
   "execution_count": 64,
   "metadata": {},
   "outputs": [
    {
     "name": "stdout",
     "output_type": "stream",
     "text": [
      "Bigger sources in new chant data: 250\n",
      "From them known to our file: 249\n"
     ]
    }
   ],
   "source": [
    "# Filter sources to avoid working with fragments (to use only those with more than 100 chants)\n",
    "freq_of_sources = chants['source_id'].value_counts()\n",
    "bigger_sources = freq_of_sources.drop(freq_of_sources[freq_of_sources.values < 100].index).index.tolist()\n",
    "print('Bigger sources in new chant data:', len(bigger_sources))\n",
    "sources_without_fragments = sources[sources['drupal_path'].isin(bigger_sources)]\n",
    "print('From them known to our file:', len(sources_without_fragments))"
   ]
  },
  {
   "cell_type": "code",
   "execution_count": 13,
   "metadata": {},
   "outputs": [],
   "source": [
    "# update drupals based on siglums\n",
    "untracked_sources = []\n",
    "updated_drupals = []\n",
    "for index, row in sources.iterrows():\n",
    "    new_source_id = chants[chants['siglum'] == row.siglum]['source_id']\n",
    "    if new_source_id.tolist() != []:\n",
    "        updated_drupals.append(new_source_id.values[0])\n",
    "    else:\n",
    "        updated_drupals.append(row.drupal_path)"
   ]
  },
  {
   "cell_type": "code",
   "execution_count": 14,
   "metadata": {},
   "outputs": [],
   "source": [
    "sources['drupal_path'] = updated_drupals"
   ]
  },
  {
   "cell_type": "code",
   "execution_count": 65,
   "metadata": {},
   "outputs": [],
   "source": [
    "sources.to_csv('../data/updated_sources.csv')"
   ]
  },
  {
   "cell_type": "code",
   "execution_count": 55,
   "metadata": {},
   "outputs": [
    {
     "name": "stdout",
     "output_type": "stream",
     "text": [
      "Bigger sources in new chant data: 250\n",
      "From them known to our file: 249\n"
     ]
    }
   ],
   "source": [
    "# Filter sources to avoid working with fragments (to use only those with more than 100 chants)\n",
    "freq_of_sources = chants['source_id'].value_counts()\n",
    "bigger_sources = freq_of_sources.drop(freq_of_sources[freq_of_sources.values < 100].index).index.tolist()\n",
    "print('Bigger sources in new chant data:', len(bigger_sources))\n",
    "sources_without_fragments = sources[sources['drupal_path'].isin(bigger_sources)]\n",
    "print('From them known to our file:', len(sources_without_fragments))"
   ]
  },
  {
   "cell_type": "code",
   "execution_count": 57,
   "metadata": {},
   "outputs": [
    {
     "name": "stdout",
     "output_type": "stream",
     "text": [
      "1\n",
      "{'http://cantusbohemiae.cz/source/22179'}\n"
     ]
    }
   ],
   "source": [
    "missing_sources = set(bigger_sources).difference(set(sources_without_fragments['drupal_path'].tolist()))\n",
    "print(len(missing_sources))\n",
    "print(missing_sources)"
   ]
  }
 ],
 "metadata": {
  "kernelspec": {
   "display_name": "myvenv",
   "language": "python",
   "name": "python3"
  },
  "language_info": {
   "codemirror_mode": {
    "name": "ipython",
    "version": 3
   },
   "file_extension": ".py",
   "mimetype": "text/x-python",
   "name": "python",
   "nbconvert_exporter": "python",
   "pygments_lexer": "ipython3",
   "version": "3.11.6"
  }
 },
 "nbformat": 4,
 "nbformat_minor": 2
}
