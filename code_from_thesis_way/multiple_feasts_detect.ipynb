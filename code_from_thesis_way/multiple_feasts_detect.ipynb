{
 "cells": [
  {
   "cell_type": "markdown",
   "metadata": {},
   "source": [
    "Experiments with multiple feasts in feast.csv detection"
   ]
  },
  {
   "cell_type": "code",
   "execution_count": 20,
   "metadata": {},
   "outputs": [],
   "source": [
    "# Get data\n",
    "import pandas as pd\n",
    "import itertools\n",
    "\n",
    "feasts = pd.read_csv('feast.csv', usecols=['id', 'name'])\n",
    "\n",
    "data_iterable = []\n",
    "for index, row in feasts.iterrows():\n",
    "    data_iterable.append((row['id'], row['name']))\n",
    "\n",
    "candidates = []\n",
    "for f1, f2 in itertools.combinations(data_iterable, 2):\n",
    "    if f1[1] == f2[1] and f1[0] != f2[0]:\n",
    "        candidates.append(f1)\n",
    "\n",
    "#print(len(candidates))\n",
    "#for cand in candidates:\n",
    "#    print(cand)\n",
    "\n"
   ]
  },
  {
   "cell_type": "markdown",
   "metadata": {},
   "source": [
    "To be merged:  \n",
    "/feast_0137,Benedictio crucis,Chants for the blessing of the cross,,,,16048000,  \n",
    "/feast_0138,Benedictio crucis,Chants for the blessing of the cross,,,,16048000,  \n",
    "/feast_0139,Benedictio crucis,Chants for the blessing of the cross,,,,16048000,   \n",
    "\n",
    "/feast_0229,Comm. plurimorum Martyrum in vigilia,Eve of several Martyrs,,,,12003010,  \n",
    "/feast_0230,Comm. plurimorum Martyrum in vigilia,Eve of several Martyrs,,,,12003010,  \n",
    "/feast_0231,Comm. plurimorum Martyrum in vigilia,Eve of several Martyrs,,,,12003010,\n",
    "\n",
    "feast_0513,Dominici,\"Dominic, founder of the Order of Friars Preachers\",Aug.4,8.0,4.0,14080430,\"Holweck, p. 286; feastcode was previously 14080820;\"  \n",
    "feast_0514,Dominici,\"Dominic, founder of the Order of Friars Preachers\",Aug.8,8.0,8.0,14080820,  \n",
    "feast_0515,Dominici,\"Dominic, founder of the Order of Friars Preachers\",,,,14080430,  \n",
    "\n",
    "feast_0516,\"Dominici,8\",In week after Dominic,,,,14080438,\"Holweck, p. 286; feastcode was 14080828;\"  \n",
    "feast_0517,\"Dominici,8\",In week after Dominic,,,,14080828,  \n",
    "feast_0518,\"Dominici,8\",In week after Dominic,,,,14080438,  \n",
    "\n",
    "feast_0566,Eustachii,\"Eustachius (Eustasius, Eustace), Martyr\",Sep.20,9.0,20.0,14092010,\"Holweck, p. 347;\"  \n",
    "feast_0567,Eustachii,\"Eustachius (Eustasius, Eustace), Martyr\",,,,14092010,  \n",
    "feast_0568,Eustachii,\"Eustachius (Eustace), Martyr\",Nov.2,11.0,2.0,14110200,  \n",
    "feast_0569,Eustachii et Sociorum Martyrum,,Sep.20,9.0,20.0,xxx,\n",
    "\n",
    "feast_0815,Gaudentii,\"Gaudentius, Bishop of Novara\",Jan.22,1.0,22.0,14012220,\"Holweck, p. 415;\"  \n",
    "feast_0816,Gaudentii,\"Gaudentius, Bishop of Novara\",Jan.22,1.0,22.0,14012220,  \n",
    "\n",
    "/feast_1405,Pro stabilitate loci,For stability of place,,,,16049000,  \n",
    "/feast_1406,Pro stabilitate loci,For stability of place,,,,16049000,  \n",
    "\n",
    "/feast_1749,Vig. Relatio Vedasti,Eve of Return of Vaast's relics,Jul.14,7.0,14.0,14071410,  \n",
    "/feast_1750,Vig. Relatio Vedasti,Eve of Return of Vaast's relics,Jul.14,7.0,14.0,14071410,  \n",
    "\n",
    "feast_1756,Vigilia Epiphaniae,Eve of Epiphany,Jan.5,1.0,5.0,02010500,  \n",
    "feast_1757,Vigilia Epiphaniae,Eve of Epiphany,Jan.5,1.0,5.0,05010500,  \n",
    "feast_1758,Vigilia Epiphaniae,Eve of Epiphany,Jan.5,1.0,5.0,02010500,  \n",
    "feast_1759,Vigilia Epiphaniae,Eve of Epiphany,Jan.5,1.0,5.0,02010500,  \n",
    "\n",
    "feast_1766,Vigilia Nat. Mariae,Eve of Birthday of Mary,Sep.7,9.0,7.0,14090710,  \n",
    "feast_1767,Vigilia Nat. Mariae,Eve of Birthday of Mary,Sep.7,9.0,7.0,14090710,  \n",
    "\n",
    "/feast_1776,Vigoris,\"Vigor, Bishop of Bayeux\",Nov.1,11.0,1.0,14110120,  \n",
    "/feast_1777,Vigoris,\"Vigor, Bishop of Bayeux\",Nov.1,11.0,1.0,14110120,  \n",
    "\n",
    "/feast_1785,Vindiciani,\"Vindician, Bishop of Cambrai\",Mar.11,3.0,11.0,14031100,  \n",
    "/feast_1786,Vindiciani,\"Vindician, Bishop of Cambrai\",Mar.11,3.0,11.0,14031100,  \n",
    "\n",
    "/feast_1787,Vinoci,\"Winnoc (Vinocus), Abbot\",Nov.6,11.0,6.0,14110600,  \n",
    "/feast_1788,Vinoci,\"Winnoc (Vinocus), Abbot\",Nov.6,11.0,6.0,14110600,  \n",
    "\n",
    "/feast_1797,Vitoni,\"Vitonus (Vanne), Bishop of Verdun\",Nov.9,11.0,9.0,14110920,  \n",
    "/feast_1798,Vitoni,\"Vitonus (Vanne), Bishop of Verdun\",Nov.9,11.0,9.0,14110920,  \n",
    "\n",
    "/feast_1799,Vulmari,\"Vulmar, Abbot\",Jul.20,7.0,20.0,14072000,  \n",
    "/feast_1800,Vulmari,\"Vulmar, Abbot\",Jul.20,7.0,20.0,14072000,  \n",
    "\n",
    "/feast_1802,Waldetrudis,\"Waldetrudis (Waudru), Widow\",Apr.9,4.0,9.0,14040900,  \n",
    "/feast_1803,Waldetrudis,\"Waldetrudis (Waudru), Widow\",Apr.9,4.0,9.0,14040900,  \n",
    "\n",
    "/feast_1824,Zenonis,\"Zeno, Martyr, Bishop of Verona\",Apr.12,4.0,12.0,14041200,\"Holweck, p.1048;\"  \n",
    "/feast_1825,Zenonis,\"Zeno, Martyr, Bishop of Verona\",Apr.12,4.0,12.0,14041200,  \n",
    "\n",
    "/feast_1827,\"Zoerardi, Benedicti\",\"Zoerard (Andrew) and Benedict, Martyrs\",Jul.16,7.0,16.0,14071600,  \n",
    "/feast_1828,\"Zoerardi, Benedicti\",\"Zoerard (Andrew) and Benedict, Martyrs\",Jul.16,7.0,16.0,14071600,\"Hungarian saints (Holweck, p. 71)\""
   ]
  },
  {
   "cell_type": "code",
   "execution_count": 24,
   "metadata": {},
   "outputs": [],
   "source": [
    "# Recreate our data\n",
    "to_be_merged = [ ['feast_0137', 'feast_0138', 'feast_0139'], \n",
    "                ['feast_0229', 'feast_0230', 'feast_0231'],\n",
    "                ['feast_1405', 'feast_1406'],\n",
    "                ['feast_1749', 'feast_1750'],\n",
    "                ['feast_1756', 'feast_1757', 'feast_1758', 'feast_1759'],\n",
    "                ['feast_1766', 'feast_1767'],\n",
    "                ['feast_1776', 'feast_1777'],\n",
    "                ['feast_1785', 'feast_1786'],\n",
    "                ['feast_1787', 'feast_1788'],\n",
    "                ['feast_1797', 'feast_1798'],\n",
    "                ['feast_1799', 'feast_1800'],\n",
    "                ['feast_1802', 'feast_1803'],\n",
    "                ['feast_1824', 'feast_1825'],\n",
    "                ['feast_1827', 'feast_1828']]"
   ]
  },
  {
   "cell_type": "code",
   "execution_count": 31,
   "metadata": {},
   "outputs": [
    {
     "name": "stdout",
     "output_type": "stream",
     "text": [
      "[[0, 0, 0], [0, 0, 6], [0, 0], [0, 12], [0, 0, 0, 576], [0, 0], [0, 4], [0, 4], [0, 2], [0, 12], [0, 10], [0, 17], [0, 0], [0, 37]]\n"
     ]
    }
   ],
   "source": [
    "# Get old data and merge multiple feasts\n",
    "responsories_all = pd.read_csv('all-ci-responsories.csv', dtype={'cantus_id':\"str\"})\n",
    "antiphons_all = pd.read_csv('all-ci-antiphons.csv', dtype={'cantus_id':\"str\"})\n",
    "\n",
    "old_data = pd.concat([responsories_all, antiphons_all])\n",
    "\n",
    "#new_data = old_data\n",
    "\n",
    "amount_of_chants = []\n",
    "for feast in to_be_merged:\n",
    "    amount_in_one_feast = []\n",
    "    for id in feast:\n",
    "        amount_in_one_feast.append(len(old_data[old_data['feast_id'] == id]))\n",
    "    amount_of_chants.append(amount_in_one_feast)\n",
    "\n",
    "print (amount_of_chants)\n",
    "\n",
    "'''\n",
    "for feast in to_be_merged:\n",
    "    first = feast[0]\n",
    "    for id in feast[1:]:\n",
    "        id_data = new_data[new_data['feast_id'] == id]\n",
    "        for index, row in id_data.iterrows():\n",
    "            row['feast_id'] = first\n",
    "'''"
   ]
  },
  {
   "cell_type": "code",
   "execution_count": 28,
   "metadata": {},
   "outputs": [],
   "source": [
    "# Save new csv\n",
    "#new_data.to_csv('data_no_multi_feasts.csv')"
   ]
  }
 ],
 "metadata": {
  "kernelspec": {
   "display_name": "myvenv",
   "language": "python",
   "name": "python3"
  },
  "language_info": {
   "codemirror_mode": {
    "name": "ipython",
    "version": 3
   },
   "file_extension": ".py",
   "mimetype": "text/x-python",
   "name": "python",
   "nbconvert_exporter": "python",
   "pygments_lexer": "ipython3",
   "version": "3.11.6"
  }
 },
 "nbformat": 4,
 "nbformat_minor": 2
}
