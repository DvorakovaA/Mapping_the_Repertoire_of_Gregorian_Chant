{
 "cells": [
  {
   "cell_type": "markdown",
   "metadata": {},
   "source": [
    "Notebook for experiments with Spectral clustering algorithm\n"
   ]
  },
  {
   "cell_type": "code",
   "execution_count": 1,
   "metadata": {},
   "outputs": [],
   "source": [
    "# Imports\n",
    "import numpy as np\n",
    "import pandas as pd\n",
    "from sklearn.cluster import SpectralClustering\n",
    "from sklearn.metrics import adjusted_rand_score, adjusted_mutual_info_score, jaccard_score, hamming_loss\n",
    "import matplotlib.pyplot as plt"
   ]
  },
  {
   "cell_type": "code",
   "execution_count": 3,
   "metadata": {},
   "outputs": [],
   "source": [
    "# Read data\n",
    "responsories_all = pd.read_csv('../data/all-ci-responsories.csv', usecols=['cantus_id', 'siglum', 'source_id', 'feast_id'], dtype={'cantus_id':\"str\"})\n",
    "antiphons_all = pd.read_csv('../data/all-ci-antiphons.csv', usecols=['cantus_id', 'siglum', 'source_id', 'feast_id'], dtype={'cantus_id':\"str\"})\n",
    "\n",
    "sources = pd.read_csv('../data/sources-with-provenance-ids-and-two-centuries.csv', usecols=['provenance_id', 'drupal_path'])\n",
    "feasts = pd.read_csv('../data/feast.csv', usecols=['id', 'name'])\n",
    "\n",
    "data = pd.concat([responsories_all, antiphons_all])"
   ]
  },
  {
   "cell_type": "code",
   "execution_count": 4,
   "metadata": {},
   "outputs": [],
   "source": [
    "# Metrics for measuring similarity of two sets ('chant sharingness')\n",
    "def intersection_size(a : list, b : list):\n",
    "    '''\n",
    "    Function returns size of intersection of two sets\n",
    "    '''\n",
    "    return len(set(a).intersection(set(b)))\n",
    "\n",
    "def Jaccard_metrics(a : list, b : list):\n",
    "    '''\n",
    "    Function returns value of Jaccard metrics applied on two sets\n",
    "    '''\n",
    "    if len(set(a).union(set(b))) != 0:\n",
    "        return (len(set(a).intersection(set(b))) / len(set(a).union(set(b))))\n",
    "    else:\n",
    "        return 0"
   ]
  },
  {
   "cell_type": "code",
   "execution_count": 5,
   "metadata": {},
   "outputs": [],
   "source": [
    "# Source translate to int for smooth matrix indexing \n",
    "from collections import OrderedDict\n",
    "\n",
    "source_dict = OrderedDict()\n",
    "i = 0\n",
    "for id in sources['drupal_path']:\n",
    "    source_dict[id] = i\n",
    "    i += 1\n",
    "    \n",
    "\n",
    "def translate_source(source_id):\n",
    "    return source_dict[source_id]"
   ]
  },
  {
   "cell_type": "code",
   "execution_count": 6,
   "metadata": {},
   "outputs": [],
   "source": [
    "def get_closeness_matrix_all(compare_func, sources):\n",
    "    source_chants_dict = {}\n",
    "    chants = data\n",
    "\n",
    "    for source_id in sources:\n",
    "        filt_source = chants['source_id'] == source_id\n",
    "        source_chants_dict[source_id] = (chants[filt_source]['cantus_id']).tolist()\n",
    "    \n",
    "    closeness_matrix = np.zeros([len(sources), len(sources)])\n",
    "    for s_i in sources:\n",
    "        for s_j in sources:\n",
    "            closeness_matrix[source_dict[s_i], source_dict[s_j]] = compare_func(source_chants_dict[s_i], source_chants_dict[s_j])\n",
    "    \n",
    "    return closeness_matrix"
   ]
  },
  {
   "cell_type": "code",
   "execution_count": 7,
   "metadata": {},
   "outputs": [
    {
     "name": "stdout",
     "output_type": "stream",
     "text": [
      "[[1.         0.25943971 0.24829739 ... 0.32778076 0.         0.02472527]\n",
      " [0.25943971 1.         0.68959869 ... 0.35355781 0.00933707 0.04789272]\n",
      " [0.24829739 0.68959869 1.         ... 0.339254   0.         0.04142186]\n",
      " ...\n",
      " [0.32778076 0.35355781 0.339254   ... 1.         0.         0.00185874]\n",
      " [0.         0.00933707 0.         ... 0.         1.         0.10516605]\n",
      " [0.02472527 0.04789272 0.04142186 ... 0.00185874 0.10516605 1.        ]]\n",
      "sym True\n"
     ]
    }
   ],
   "source": [
    "dist_mat = get_closeness_matrix_all(Jaccard_metrics, sources['drupal_path'].tolist()) #['http://cantus.sk/source/14828','http://cantus.sk/source/14018', 'http://cantus.uwaterloo.ca/source/123730','http://cantus.uwaterloo.ca/source/123727', 'http://cantus.uwaterloo.ca/source/649450', 'http://cantus.uwaterloo.ca/source/123595', 'http://cantus.uwaterloo.ca/source/123606', 'http://cantus.uwaterloo.ca/source/123750', 'http://cantus.uwaterloo.ca/source/123718'])\n",
    "print(dist_mat)\n",
    "print('sym', (dist_mat==dist_mat.T).all())"
   ]
  },
  {
   "cell_type": "code",
   "execution_count": 8,
   "metadata": {},
   "outputs": [],
   "source": [
    "CLUSTERS_OPTIONS = [1, 2, 3, 4, 5, 6, 7]"
   ]
  },
  {
   "cell_type": "code",
   "execution_count": 9,
   "metadata": {},
   "outputs": [],
   "source": [
    "sources = sources['drupal_path'].tolist()\n",
    "community_variants = []\n",
    "clustering_scores = {}\n",
    "for n_clusters in CLUSTERS_OPTIONS:\n",
    "    clustering_scores[n_clusters] = []\n",
    "    for _ in range(20):\n",
    "        distance_matrix = get_closeness_matrix_all(Jaccard_metrics, sources)\n",
    "        clustering = SpectralClustering(n_clusters=n_clusters, affinity='precomputed', assign_labels='cluster_qr')\n",
    "        clustering.fit(distance_matrix)\n",
    "        community_variants.append(clustering.labels_)\n",
    "    rand = []\n",
    "    jaccard = []\n",
    "    mutual_info = []\n",
    "    hamming = []\n",
    "    all_pairs = [(a, b) for idx, a in enumerate(community_variants) for b in community_variants[idx + 1:]]\n",
    "    for pair in all_pairs:\n",
    "        rand.append(adjusted_rand_score(pair[0], pair[1]))\n",
    "        jaccard.append(jaccard_score(pair[0], pair[1], average='micro'))\n",
    "        mutual_info.append(adjusted_mutual_info_score(pair[0], pair[1]))\n",
    "        hamming.append(hamming_loss(pair[0], pair[1]))\n",
    "    clustering_scores[n_clusters].append((np.mean(rand), np.mean(jaccard), np.mean(mutual_info), np.mean(hamming)))"
   ]
  },
  {
   "cell_type": "code",
   "execution_count": 11,
   "metadata": {},
   "outputs": [
    {
     "name": "stdout",
     "output_type": "stream",
     "text": [
      "1\n",
      "mean jaccard 1.0\n",
      "mean rand 1.0\n",
      "mean mutual 1.0\n",
      "mean hamming 0.0\n",
      "2\n",
      "mean jaccard 0.5061728395061729\n",
      "mean rand 0.48717948717948717\n",
      "mean mutual 0.48717948717948717\n",
      "mean hamming 0.4761904761904762\n",
      "3\n",
      "mean jaccard 0.33609235293807815\n",
      "mean rand 0.48147228277650606\n",
      "mean mutual 0.4856667303127618\n",
      "mean hamming 0.6507263922518159\n",
      "4\n",
      "mean jaccard 0.30297529637618\n",
      "mean rand 0.38499740201090954\n",
      "mean mutual 0.43603317406527464\n",
      "mean hamming 0.6662522603978299\n",
      "5\n",
      "mean jaccard 0.26472256254563314\n",
      "mean rand 0.3368402242855735\n",
      "mean mutual 0.4082884204814024\n",
      "mean hamming 0.6933621933621933\n",
      "6\n",
      "mean jaccard 0.22204849209141383\n",
      "mean rand 0.32149350217226647\n",
      "mean mutual 0.40891707520931136\n",
      "mean hamming 0.7385454181672669\n",
      "7\n",
      "mean jaccard 0.20871410491488873\n",
      "mean rand 0.3077762718996142\n",
      "mean mutual 0.4086648988512147\n",
      "mean hamming 0.7478710908823961\n"
     ]
    }
   ],
   "source": [
    "for i in CLUSTERS_OPTIONS:\n",
    "    print(i)\n",
    "    print('mean jaccard', np.mean([x[1] for x in clustering_scores[i]]))\n",
    "    print('mean rand', np.mean([x[0] for x in clustering_scores[i]]))\n",
    "    print('mean mutual', np.mean([x[2] for x in clustering_scores[i]]))\n",
    "    print('mean hamming', np.mean([x[3] for x in clustering_scores[i]]))"
   ]
  }
 ],
 "metadata": {
  "kernelspec": {
   "display_name": "myvenv",
   "language": "python",
   "name": "python3"
  },
  "language_info": {
   "codemirror_mode": {
    "name": "ipython",
    "version": 3
   },
   "file_extension": ".py",
   "mimetype": "text/x-python",
   "name": "python",
   "nbconvert_exporter": "python",
   "pygments_lexer": "ipython3",
   "version": "3.11.6"
  }
 },
 "nbformat": 4,
 "nbformat_minor": 2
}
