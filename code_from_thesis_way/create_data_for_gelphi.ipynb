{
 "cells": [
  {
   "cell_type": "markdown",
   "metadata": {},
   "source": [
    "Creating datafile for Gelphi network:\n",
    "* nodes = sources\n",
    "* edges = weighted by number of shared chants between such sources - intersection and Jaccard options"
   ]
  },
  {
   "cell_type": "code",
   "execution_count": 78,
   "metadata": {},
   "outputs": [],
   "source": [
    "import pandas as pd\n",
    "\n",
    "# Reading csv files\n",
    "responsories_all = pd.read_csv('all-ci-responsories.csv', usecols=['cantus_id', 'siglum', 'source_id', 'feast_id'], dtype={'cantus_id':\"str\"})\n",
    "antiphons_all = pd.read_csv('all-ci-antiphons.csv', usecols=['cantus_id', 'siglum', 'source_id', 'feast_id'], dtype={'cantus_id':\"str\"})\n",
    "\n",
    "sources = pd.read_csv('sources-with-provenance-ids-and-two-centuries.csv', usecols=['provenance_id', 'drupal_path'])\n",
    "feasts = pd.read_csv('feast.csv', usecols=['id', 'name'])\n",
    "\n",
    "# Add sources to data \n",
    "#respo_with_sources = pd.merge(responsories_all, sources, how='inner', left_on='source_id')\n",
    "#antipho_with_sources = pd.merge(antiphons_all, sources, how='inner', left_on='source_id')\n",
    "\n",
    "# Merge responsories and antiphons\n",
    "data = pd.concat([responsories_all, antiphons_all])"
   ]
  },
  {
   "cell_type": "code",
   "execution_count": 79,
   "metadata": {},
   "outputs": [
    {
     "name": "stdout",
     "output_type": "stream",
     "text": [
      "375275\n",
      "64\n"
     ]
    }
   ],
   "source": [
    "# Filter sources to avoid working with fragments etc\n",
    "freq_of_sources = data['source_id'].value_counts()\n",
    "bigger_sources = freq_of_sources.drop(freq_of_sources[freq_of_sources.values < 100].index).index.tolist()\n",
    "sources_f = sources[sources['drupal_path'].isin(bigger_sources)]\n",
    "print(len(data))\n",
    "print(len(sources_f))"
   ]
  },
  {
   "cell_type": "code",
   "execution_count": 80,
   "metadata": {},
   "outputs": [],
   "source": [
    "# Source translate to int for smooth matrix indexing \n",
    "from collections import OrderedDict\n",
    "\n",
    "source_dict = OrderedDict()\n",
    "i = 0\n",
    "for id in sources_f['drupal_path']:\n",
    "    source_dict[id] = i\n",
    "    i += 1\n",
    "    \n",
    "\n",
    "def translate_source(source_id):\n",
    "    return source_dict[source_id]"
   ]
  },
  {
   "cell_type": "code",
   "execution_count": 81,
   "metadata": {},
   "outputs": [],
   "source": [
    "# Metrics for measuring similarity of two sets ('chant sharingness')\n",
    "def intersection_size(a : list, b : list):\n",
    "    '''\n",
    "    Function returns size of intersection of two sets\n",
    "    '''\n",
    "    return len(set(a).intersection(set(b)))\n",
    "\n",
    "def Jaccard_metrics(a : list, b : list):\n",
    "    '''\n",
    "    Function returns value of Jaccard metrics applied on two sets\n",
    "    '''\n",
    "    if len(set(a) | set(b)) != 0:\n",
    "        return len(set(a).intersection(set(b))) / len(set(a).union(set(b)))\n",
    "    else:\n",
    "        return 0"
   ]
  },
  {
   "cell_type": "code",
   "execution_count": 82,
   "metadata": {},
   "outputs": [],
   "source": [
    "# Get matrix for building network in Gelphi\n",
    "import numpy as np\n",
    "\n",
    "def get_data_for_one_feast(feast_id, compare_func):\n",
    "    source_chants_dict = {}\n",
    "    filt_feast = data['feast_id'] == feast_id\n",
    "    chants_of_feast = data[filt_feast]\n",
    "    for source_id in sources_f['drupal_path']:\n",
    "        filt_source = chants_of_feast['source_id'] == source_id\n",
    "        source_chants_dict[source_id] = (chants_of_feast[filt_source]['cantus_id']).tolist()\n",
    "    \n",
    "    all_pairs = [(a, b) for idx, a in enumerate(sources_f['drupal_path']) for b in sources_f['drupal_path'].tolist()[idx + 1:]]\n",
    "    \n",
    "    data_matrix = np.zeros([len(sources_f), len(sources_f)])\n",
    "    for s_i, s_j in all_pairs:\n",
    "        data_matrix[translate_source(s_i), translate_source(s_j)] = compare_func(source_chants_dict[s_i], source_chants_dict[s_j])\n",
    "    \n",
    "    print(data_matrix)\n",
    "    return data_matrix\n",
    "    "
   ]
  },
  {
   "cell_type": "code",
   "execution_count": 83,
   "metadata": {},
   "outputs": [],
   "source": [
    "def get_data_of_more_feasts(ids_list):\n",
    "    pass"
   ]
  },
  {
   "cell_type": "code",
   "execution_count": 84,
   "metadata": {},
   "outputs": [],
   "source": [
    "def build_data_csv(data_matrix, feast):\n",
    "    file = feast + '_source_feast_gephi.csv'\n",
    "    with open(file, 'w') as f:\n",
    "        f.write(';'+';'.join(sources_f['drupal_path'].tolist())+'\\n')\n",
    "        for source_id in sources_f['drupal_path']:\n",
    "            f.write(source_id)\n",
    "            for i in range(len(sources_f)):\n",
    "                f.write(';'+str(data_matrix[translate_source(source_id), i]))\n",
    "            f.write('\\n')"
   ]
  },
  {
   "cell_type": "code",
   "execution_count": 85,
   "metadata": {},
   "outputs": [
    {
     "name": "stdout",
     "output_type": "stream",
     "text": [
      "[[0. 0. 0. ... 0. 0. 0.]\n",
      " [0. 0. 0. ... 0. 0. 0.]\n",
      " [0. 0. 0. ... 0. 0. 0.]\n",
      " ...\n",
      " [0. 0. 0. ... 0. 0. 0.]\n",
      " [0. 0. 0. ... 0. 0. 0.]\n",
      " [0. 0. 0. ... 0. 0. 0.]]\n",
      "[[0. 0. 0. ... 0. 0. 0.]\n",
      " [0. 0. 0. ... 0. 0. 0.]\n",
      " [0. 0. 0. ... 0. 0. 0.]\n",
      " ...\n",
      " [0. 0. 0. ... 0. 0. 0.]\n",
      " [0. 0. 0. ... 0. 0. 0.]\n",
      " [0. 0. 0. ... 0. 0. 0.]]\n"
     ]
    }
   ],
   "source": [
    "build_data_csv(get_data_for_one_feast(\"feast_1531\", intersection_size), \"feast_1531\")\n",
    "build_data_csv(get_data_for_one_feast(\"feast_1531\", Jaccard_metrics), \"feast_1531\")"
   ]
  }
 ],
 "metadata": {
  "kernelspec": {
   "display_name": "myvenv",
   "language": "python",
   "name": "python3"
  },
  "language_info": {
   "codemirror_mode": {
    "name": "ipython",
    "version": 3
   },
   "file_extension": ".py",
   "mimetype": "text/x-python",
   "name": "python",
   "nbconvert_exporter": "python",
   "pygments_lexer": "ipython3",
   "version": "3.11.6"
  }
 },
 "nbformat": 4,
 "nbformat_minor": 2
}
