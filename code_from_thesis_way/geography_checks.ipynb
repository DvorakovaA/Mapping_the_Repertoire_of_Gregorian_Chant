{
 "cells": [
  {
   "cell_type": "code",
   "execution_count": 1,
   "metadata": {},
   "outputs": [],
   "source": [
    "import pandas as pd\n",
    "from collections import Counter"
   ]
  },
  {
   "cell_type": "code",
   "execution_count": 2,
   "metadata": {},
   "outputs": [],
   "source": [
    "#sources = pd.read_csv('sources-with-provenance-ids-and-two-centuries.csv')\n",
    "geography = pd.read_csv('geography_data.csv')"
   ]
  },
  {
   "cell_type": "code",
   "execution_count": 10,
   "metadata": {},
   "outputs": [
    {
     "name": "stdout",
     "output_type": "stream",
     "text": [
      "[('provenance_016', 22), (nan, 17), ('provenance_071', 9), ('provenance_129', 9), ('provenance_076', 8), ('provenance_058', 6), ('provenance_077', 6), ('provenance_090', 5), ('provenance_121', 5), ('provenance_151', 4), ('provenance_199', 4), ('provenance_224', 4), ('provenance_174', 3), ('provenance_146', 3), ('provenance_218', 3), ('provenance_221', 3), ('provenance_176', 3), ('provenance_228', 3), ('provenance_075', 3), ('provenance_186', 3), ('provenance_163', 3), ('provenance_042', 3), ('provenance_023', 2), ('provenance_197', 2), ('provenance_049', 2), ('provenance_068', 2), ('provenance_211', 2), ('provenance_220', 2), ('provenance_234', 2), ('provenance_165', 2), ('provenance_014', 2), ('provenance_029', 2), ('provenance_097', 2), ('provenance_060', 2), ('provenance_219', 2), ('provenance_235', 2), ('provenance_051', 2), ('provenance_213', 2), ('provenance_074', 2), ('provenance_078', 2), ('provenance_128', 2), ('provenance_132', 2), ('provenance_237', 2), ('provenance_241', 2), ('provenance_047', 1), ('provenance_133', 1), ('provenance_052', 1), ('provenance_183', 1), ('provenance_185', 1), ('provenance_094', 1), ('provenance_180', 1), ('provenance_150', 1), ('provenance_206', 1), ('provenance_020', 1), ('provenance_196', 1), ('provenance_216', 1), ('provenance_006', 1), ('provenance_244', 1), ('provenance_179', 1), ('provenance_079', 1), ('provenance_164', 1), ('provenance_205', 1), ('provenance_140', 1), ('provenance_162', 1), ('provenance_001', 1), ('provenance_217', 1), ('provenance_096', 1), ('provenance_207', 1), ('provenance_160', 1), ('provenance_167', 1), ('provenance_073', 1), ('provenance_190', 1), ('provenance_149', 1), ('provenance_127', 1), ('provenance_123', 1), ('provenance_124', 1), ('provenance_103', 1), ('provenance_088', 1), ('provenance_212', 1), ('provenance_225', 1), ('provenance_230', 1), ('provenance_243', 1), ('provenance_135', 1), ('provenance_081', 1), ('provenance_035', 1), ('provenance_231', 1), ('provenance_226', 1), ('provenance_019', 1), ('provenance_003', 1), ('provenance_153', 1), ('provenance_080', 1), ('provenance_100', 1), ('provenance_236', 1), ('provenance_232', 1), ('provenance_239', 1), ('provenance_227', 1), ('provenance_028', 1), ('provenance_166', 1), ('provenance_240', 1), ('provenance_223', 1), ('provenance_242', 1), ('provenance_238', 1), ('provenance_229', 1), ('provenance_233', 1), ('provenance_119', 1), ('provenance_222', 1)]\n"
     ]
    }
   ],
   "source": [
    "freq_provenances = Counter()\n",
    "for index, row in sources.iterrows():\n",
    "    freq_provenances[row['provenance_id']] +=1\n",
    "print(freq_provenances.most_common())"
   ]
  },
  {
   "cell_type": "code",
   "execution_count": 3,
   "metadata": {},
   "outputs": [
    {
     "name": "stdout",
     "output_type": "stream",
     "text": [
      "[((47.066667, 14.3), 1), ((51.216667, 9.383333), 1), ((48.090833, 13.877222), 1), ((53.0, -1.0), 1), ((47.423056, 9.377222), 1), ((47.766943, 12.457), 1), ((45.7393, 7.3253), 1), ((45.8353, 1.2625), 1), ((44.998683, 10.402068), 1), ((52.14, 6.195), 1), ((50.780833, 5.464722), 1), ((43.928889, 2.146389), 1), ((50.061389, 19.937222), 1), ((48.2, 15.616667), 1), ((43.2975, 5.377222), 1), ((41.953611, 2.327778), 1), ((51.8, 11.15), 1), ((48.368889, 10.897778), 1), ((45.05, 9.7), 1), ((50.766667, 6.1), 1), ((40.965, -5.664167), 1), ((47.783333, 18.733333), 1), ((48.1975, 3.2877), 1), ((50.883333, 20.616667), 1), ((46.316667, 9.4), 1), ((49.891667, 10.891667), 1), ((49.998719, 8.274773), 1), ((39.866667, -4.033333), 1), ((48.3, 16.316667), 1), ((45.183333, 9.15), 1), ((52.090833, 5.121667), 1), ((47.405347, 15.885509), 1), ((48.2325, 9.464167), 1), ((52.188901, -2.221265), 1), ((49.783333, 9.95), 1), ((50.283333, 2.783333), 1), ((46.723611, 2.505556), 1), ((51.267222, 16.475556), 1), ((49.431944, 0.819167), 1), ((50.176667, 3.235556), 1), ((47.127778, 8.743056), 1), ((51.450278, 9.641111), 1), ((50.208056, 6.424444), 1), ((43.783333, 11.25), 1), ((42.35, -3.7), 1), ((47.1351, 15.2851), 1), ((50.463056, 4.853611), 1), ((41.132043, 14.774448), 1), ((48.928611, 2.041944), 1), ((51.10947, 17.0327), 1), ((48.799444, 2.499722), 1), ((51.964112, 7.621824), 1), ((43.82049, 10.6558711), 1), ((52.45027, -0.46375), 1), ((49.023663, 1.141331), 1), ((48.070739, 15.324166), 1), ((48.055608, 14.127765), 1), ((48.208889, 14.379444), 1), ((45.4375, 12.335833), 1), ((47.393611, 0.689167), 1), ((43.731944, 11.557778), 1), ((47.809167, 9.644444), 1), ((52.21962, -3.93517), 1), ((46.23887, 14.35561), 1), ((50.716667, 9.9), 1), ((49.116111, 6.172222), 1), ((41.893056, 12.482778), 1), ((50.091208, 14.4025), 1), ((48.856667, 2.352222), 1), ((40.416944, -3.703333), 1), ((45.466667, 9.166667), 1), ((50.9425, 6.958889), 1), ((41.49, 13.814), 1), ((47.263784, 7.168377), 1), ((52.1525, 5.386944), 1), ((45.416667, 11.866667), 1), ((49.965815, 7.889203), 1), ((48.891944, 11.183889), 1), ((48.338747, 10.353202), 1), ((47.084444, 2.396389), 1), ((43.614991, 1.177855), 1), ((50.0875, 14.421389), 1), ((49.090239, 16.603886), 1), ((41.5499, -8.42736), 1), ((52.55, 19.7), 1), ((50.010278, 20.198611), 1), ((49.741389, 13.3825), 1), ((46.434843, 4.659474), 1), ((48.144722, 17.112778), 1), ((50.0, 15.401389), 1), ((48.735556, 19.145833), 1), ((50.0108, 19.8203), 1), ((42.1401, -0.408897), 1), ((42.033333, 0.116667), 1), ((42.5224, -0.6741), 1), ((47.65, -2.084), 1), ((41.987882, 2.824912), 1), ((49.417389, 2.824603), 1), ((41.467778, 2.083333), 1), ((41.9625, -3.419722), 1), ((42.507444, -0.673278), 1), ((46.992778, 3.161667), 1), ((41.904444, -1.7225), 1), ((49.4402, 1.095), 1), ((49.564167, 3.625), 1), ((40.92835139943652, -8.247185039518113), 1), ((40.211111, -8.428889), 1), ((43.608414, 1.441883), 1), ((42.152278, -7.956869), 1)]\n"
     ]
    }
   ],
   "source": [
    "shared_coordinates = Counter()\n",
    "for index, row in geography.iterrows():\n",
    "    shared_coordinates[(row['latitude'], row['longitude'])] += 1\n",
    "print(shared_coordinates.most_common())"
   ]
  }
 ],
 "metadata": {
  "kernelspec": {
   "display_name": "myvenv",
   "language": "python",
   "name": "python3"
  },
  "language_info": {
   "codemirror_mode": {
    "name": "ipython",
    "version": 3
   },
   "file_extension": ".py",
   "mimetype": "text/x-python",
   "name": "python",
   "nbconvert_exporter": "python",
   "pygments_lexer": "ipython3",
   "version": "3.11.6"
  }
 },
 "nbformat": 4,
 "nbformat_minor": 2
}
