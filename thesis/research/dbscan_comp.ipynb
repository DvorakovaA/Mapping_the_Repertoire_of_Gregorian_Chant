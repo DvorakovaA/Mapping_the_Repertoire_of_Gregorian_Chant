{
 "cells": [
  {
   "cell_type": "markdown",
   "metadata": {},
   "source": [
    "### Experiments with DBSCAN algorithm for Gregorian chant repertoire tradition detection\n",
    "* distance matrix construction (parameter metric='precomputed')\n",
    "* parameters:\n",
    "    -  eps\n",
    "    -  min_samples\n",
    "    \n",
    "* check for noise samples"
   ]
  },
  {
   "cell_type": "code",
   "execution_count": 14,
   "metadata": {},
   "outputs": [],
   "source": [
    "# Imports\n",
    "import numpy as np\n",
    "import pandas as pd\n",
    "\n",
    "from sklearn.cluster import DBSCAN\n",
    "\n",
    "import matplotlib.pyplot as plt\n",
    "from itertools import combinations\n",
    "from random import sample, seed\n",
    "from collections import Counter, OrderedDict\n",
    "import random\n",
    "\n",
    "import pickle\n",
    "import lzma"
   ]
  },
  {
   "cell_type": "code",
   "execution_count": 3,
   "metadata": {},
   "outputs": [],
   "source": [
    "# Read data\n",
    "responsories_all = pd.read_csv('../data/all-ci-responsories.csv', usecols=['cantus_id', 'incipit', 'siglum', 'source_id', 'feast_id'], dtype={'cantus_id':\"str\"})\n",
    "antiphons_all = pd.read_csv('../data/all-ci-antiphons.csv', usecols=['cantus_id', 'incipit', 'siglum', 'source_id', 'feast_id'], dtype={'cantus_id':\"str\"})\n",
    "\n",
    "sources = pd.read_csv('../data/sources-with-provenance-ids-and-two-centuries.csv', usecols=['provenance_id', 'drupal_path', 'siglum', 'cursus', 'num_century'])\n",
    "feasts = pd.read_csv('../data/feast.csv', usecols=['id', 'name'])\n",
    "\n",
    "chants = pd.concat([responsories_all, antiphons_all])"
   ]
  },
  {
   "cell_type": "code",
   "execution_count": 4,
   "metadata": {},
   "outputs": [],
   "source": [
    "# Sources compare metric\n",
    "def jaccard_dist(a : list, b : list):\n",
    "    '''\n",
    "    Function returns value of Jaccard metrics applied on two sets\n",
    "    '''\n",
    "    if len(set(a).union(set(b))) != 0:\n",
    "        return (len(set(a).intersection(set(b))) / len(set(a).union(set(b))))\n",
    "    else:\n",
    "        return 0"
   ]
  },
  {
   "cell_type": "code",
   "execution_count": 6,
   "metadata": {},
   "outputs": [],
   "source": [
    "# Source translate to int for smooth matrix indexing \n",
    "source_dict = OrderedDict()\n",
    "i = 0\n",
    "for id in sources['drupal_path']:\n",
    "    source_dict[id] = i\n",
    "    i += 1"
   ]
  },
  {
   "cell_type": "code",
   "execution_count": 9,
   "metadata": {},
   "outputs": [],
   "source": [
    "def get_distance_matrix_all(compare_func, sources):\n",
    "    ''' \n",
    "    Constructs distane matrix for given sources (indexing in given order)\n",
    "    from all data (all feasts)\n",
    "    '''\n",
    "    source_chants_dict = {}\n",
    "\n",
    "    for source_id in sources:\n",
    "        filt_source = chants['source_id'] == source_id\n",
    "        source_chants_dict[source_id] = (chants[filt_source]['cantus_id']).tolist()\n",
    "    \n",
    "    distance_matrix = np.zeros([len(sources), len(sources)])\n",
    "    for s_i in sources:\n",
    "        for s_j in sources:\n",
    "            distance_matrix[source_dict[s_i], source_dict[s_j]] = 1 - compare_func(source_chants_dict[s_i], source_chants_dict[s_j])\n",
    "    \n",
    "    return distance_matrix"
   ]
  },
  {
   "cell_type": "code",
   "execution_count": 10,
   "metadata": {},
   "outputs": [],
   "source": [
    "def shuffle(perm, sources):\n",
    "    '''\n",
    "    Shuffles sources based on given permutation of indexess\n",
    "    '''\n",
    "    shuffled_sources = [sources[j] for j in perm]\n",
    "    return shuffled_sources\n",
    "\n",
    "def unshuffle(perm, labels):\n",
    "    '''\n",
    "    Restore original order of elemenets from permutation,\n",
    "    that was used for their shuffling\n",
    "    '''\n",
    "    unshuffled_labels = np.zeros(len(labels))\n",
    "    for i, j in enumerate(perm):\n",
    "        unshuffled_labels[j] = labels[i]\n",
    "    return unshuffled_labels"
   ]
  },
  {
   "cell_type": "markdown",
   "metadata": {},
   "source": [
    "### Experiments"
   ]
  },
  {
   "cell_type": "markdown",
   "metadata": {},
   "source": [
    "First focus on amount o samples classified as noise (label == -1)"
   ]
  },
  {
   "cell_type": "code",
   "execution_count": 11,
   "metadata": {},
   "outputs": [],
   "source": [
    "# Used options for parameters search and random states for shuffling sources\n",
    "EPS_OPTIONS = [0.1, 0.2, 0.3, 0.4, 0.5, 0.6, 0.7, 0.8, 0.9]\n",
    "MIN_SAMPLES_OPTIONS = [2, 3, 4, 5, 6, 7]\n",
    "random_states = [i for i in range(1, 151)]"
   ]
  },
  {
   "cell_type": "code",
   "execution_count": 13,
   "metadata": {},
   "outputs": [
    {
     "name": "stdout",
     "output_type": "stream",
     "text": [
      "Setup that leads to less than half of all samples noisy: 0.9 2 112\n"
     ]
    }
   ],
   "source": [
    "# Run on all data graph = look for noise\n",
    "\n",
    "dict_all_labels = {}\n",
    "dict_all_noise_counts = {}\n",
    "\n",
    "rand_idx = 0\n",
    "for eps in EPS_OPTIONS:\n",
    "    for min_sample in MIN_SAMPLES_OPTIONS:\n",
    "        perm = list(range(len(source_dict)))\n",
    "        random.seed(random_states[i])\n",
    "        random.shuffle(perm)\n",
    "        shuff_sources = shuffle(perm, list(source_dict.keys()))\n",
    "        distance_matrix = get_distance_matrix_all(jaccard_dist, shuff_sources)\n",
    "        clustering = DBSCAN(eps=eps, min_samples=min_sample)\n",
    "        clustering.fit(distance_matrix)\n",
    "\n",
    "        labels = unshuffle(perm, clustering.labels_)\n",
    "        \n",
    "        unique, counts = np.unique(labels, return_counts=True)\n",
    "        counts_dict = dict(zip(unique, counts))\n",
    "        dict_all_noise_counts[(eps, min_sample)] = counts_dict[-1]\n",
    "        if counts_dict[-1] < 125:\n",
    "            print('Setup that leads to less than half of all samples noisy:', eps, min_sample, counts_dict[-1])\n",
    "            \n",
    "        dict_all_labels[(eps, min_sample)] = labels\n",
    "    rand_idx += 1"
   ]
  },
  {
   "cell_type": "code",
   "execution_count": 15,
   "metadata": {},
   "outputs": [],
   "source": [
    "# Saved computed dict_all_labels and dict_all_noise_counts\n",
    "\n",
    "#with lzma.open(\"saved_results/dbscan/dict_all_labels.txt\", \"rb\") as model_file:\n",
    "#    dict_all_labels = pickle.load(model_file)\n",
    "#with lzma.open(\"saved_results/dbscan/dict_all_noise_counts.txt\", \"rb\") as model_file:\n",
    "#    dict_all_noise_counts = pickle.load(model_file)"
   ]
  },
  {
   "cell_type": "markdown",
   "metadata": {},
   "source": [
    "Let's look at numbers of noise while running computations on each of feasts"
   ]
  },
  {
   "cell_type": "code",
   "execution_count": 22,
   "metadata": {},
   "outputs": [
    {
     "name": "stdout",
     "output_type": "stream",
     "text": [
      "['feast_1202', 'feast_1416', 'feast_0552', 'feast_0093', 'feast_0198', 'feast_0227', 'feast_1283', 'feast_0719', 'feast_0476', 'feast_0983', 'feast_1548', 'feast_0091', 'feast_0500', 'feast_0343', 'feast_1204', 'feast_1150', 'feast_0994', 'feast_0258', 'feast_0067', 'feast_0752', 'feast_1200', 'feast_1125', 'feast_0475', 'feast_1056', 'feast_0055', 'feast_0031', 'feast_0033', 'feast_0472', 'feast_0473', 'feast_1497', 'feast_0933', 'feast_0438', 'feast_0291', 'feast_0390', 'feast_1262', 'feast_0162', 'feast_1115', 'feast_0234', 'feast_1321', 'feast_0332', 'feast_0445', 'feast_0467', 'feast_0416', 'feast_0581', 'feast_0470', 'feast_1343', 'feast_1211', 'feast_0959', 'feast_0360', 'feast_0132', 'feast_0577', 'feast_0625', 'feast_0437', 'feast_0444', 'feast_1765', 'feast_0245', 'feast_0287', 'feast_1249', 'feast_0415', 'feast_0474', 'feast_0658', 'feast_0339', 'feast_0725', 'feast_0696', 'feast_0761', 'feast_0323', 'feast_1501', 'feast_1266', 'feast_0325', 'feast_0330', 'feast_1352', 'feast_1383', 'feast_0190', 'feast_0180', 'feast_0846', 'feast_1079', 'feast_0964', 'feast_1778', 'feast_0419', 'feast_1010', 'feast_1332', 'feast_0610', 'feast_0281', 'feast_0338', 'feast_0447', 'feast_0386', 'feast_0677', 'feast_0177', 'feast_0947', 'feast_1783', 'feast_0493', 'feast_0643', 'feast_1821', 'feast_0094', 'feast_1789', 'feast_1105', 'feast_0099', 'feast_0624', 'feast_1203', 'feast_0074', 'feast_0342', 'feast_0553', 'feast_0660', 'feast_1139', 'feast_0543', 'feast_0265', 'feast_0657', 'feast_1109', 'feast_0212', 'feast_0247', 'feast_0324', 'feast_0028', 'feast_0695', 'feast_0724', 'feast_0440', 'feast_0393', 'feast_0221', 'feast_1132', 'feast_0311', 'feast_0417', 'feast_0811', 'feast_1655', 'feast_0760', 'feast_0066', 'feast_0707', 'feast_0604', 'feast_1499', 'feast_0737', 'feast_1241', 'feast_0611', 'feast_0156', 'feast_0910', 'feast_0637', 'feast_0617', 'feast_0483', 'feast_0596', 'feast_0824', 'feast_1661', 'feast_1638', 'feast_0671', 'feast_0452', 'feast_0007', 'feast_1759', 'feast_0874', 'feast_0421', 'feast_0974', 'feast_0022', 'feast_0011', 'feast_1272', 'feast_0733', 'feast_1005', 'feast_0595', 'feast_1492', 'feast_0623', 'feast_0644', 'feast_0678', 'feast_0667', 'feast_0936', 'feast_0439', 'feast_0864', 'feast_1493', 'feast_1589', 'feast_0260', 'feast_0600', 'feast_1344', 'feast_0633', 'feast_0791', 'feast_0321', 'feast_0713', 'feast_1806', 'feast_1226', 'feast_1639', 'feast_0702', 'feast_0743', 'feast_0003', 'feast_0755', 'feast_0228', 'feast_0026', 'feast_0639', 'feast_1494', 'feast_0446', 'feast_0124', 'feast_0735', 'feast_0092', 'feast_0319', 'feast_1312', 'feast_0650', 'feast_1127', 'feast_0423', 'feast_0673', 'feast_0255', 'feast_0148', 'feast_0121', 'feast_0442', 'feast_0403', 'feast_0225', 'feast_0409', 'feast_0187', 'feast_0602', 'feast_0762', 'feast_1205', 'feast_0449', 'feast_0413', 'feast_1586', 'feast_0458', 'feast_0399', 'feast_0462', 'feast_0875', 'feast_0606', 'feast_0726', 'feast_0663', 'feast_0454', 'feast_1467', 'feast_0729', 'feast_1230', 'feast_0222', 'feast_0464', 'feast_1117', 'feast_0665', 'feast_0521', 'feast_0511', 'feast_0687', 'feast_0628', 'feast_0401', 'feast_0395', 'feast_0700', 'feast_0407', 'feast_0656', 'feast_0427', 'feast_0739', 'feast_0397', 'feast_1468', 'feast_0598', 'feast_0425', 'feast_0405', 'feast_0460', 'feast_0631', 'feast_0679', 'feast_0731', 'feast_0629', 'feast_0411', 'feast_0751', 'feast_0728', 'feast_0635', 'feast_0718', 'feast_1121', 'feast_0705', 'feast_1686', 'feast_0662', 'feast_1515', 'feast_0698', 'feast_0669', 'feast_0709', 'feast_1367', 'feast_1481', 'feast_0697', 'feast_1502', 'feast_0935', 'feast_0429', 'feast_0597', 'feast_1261', 'feast_0985', 'feast_0431', 'feast_1051', 'feast_1267', 'feast_0087', 'feast_0394', 'feast_0599', 'feast_1255', 'feast_1076', 'feast_0664', 'feast_0651', 'feast_0730', 'feast_1769', 'feast_1513', 'feast_1240', 'feast_1136', 'feast_0630', 'feast_0080', 'feast_0946', 'feast_1566', 'feast_0694', 'feast_1531', 'feast_0688', 'feast_0618', 'feast_0699', 'feast_0451', 'feast_1479', 'feast_1719', 'feast_1034', 'feast_0433', 'feast_0389', 'feast_0043', 'feast_0337', 'feast_1469', 'feast_0468', 'feast_1794', 'feast_1263', 'feast_1242', 'feast_1490', 'feast_1238', 'feast_0006', 'feast_1491', 'feast_1472', 'feast_0141', 'feast_1470', 'feast_0249', 'feast_0621', 'feast_0293', 'feast_1444', 'feast_1587', 'feast_0019', 'feast_0732', 'feast_0484', 'feast_0471', 'feast_0723', 'feast_0487', 'feast_0902', 'feast_1627', 'feast_0701', 'feast_0666', 'feast_0758', 'feast_0632', 'feast_1535', 'feast_0839', 'feast_1412', 'feast_0335', 'feast_0379', 'feast_0759', 'feast_0495', 'feast_1441', 'feast_1134', 'feast_0654', 'feast_0004', 'feast_1730', 'feast_1104', 'feast_0829', 'feast_1485', 'feast_0870', 'feast_1223', 'feast_0441', 'feast_0064', 'feast_1598', 'feast_0289', 'feast_0880', 'feast_0692', 'feast_0907', 'feast_0313', 'feast_1284', 'feast_1599', 'feast_1522', 'feast_0060', 'feast_0382', 'feast_0123', 'feast_1727', 'feast_0420', 'feast_0512', 'feast_0242', 'feast_1818', 'feast_0312', 'feast_0002', 'feast_1801', 'feast_0297', 'feast_0857', 'feast_0515', 'feast_1745', 'feast_1538', 'feast_1310', 'feast_0013', 'feast_0392', 'feast_0620', 'feast_0448', 'feast_1209', 'feast_1257', 'feast_1268', 'feast_1746', 'feast_1113', 'feast_1725', 'feast_0188', 'feast_0876', 'feast_0075', 'feast_0370', 'feast_0613', 'feast_0568', 'feast_1274', 'feast_1662', 'feast_0872', 'feast_1551', 'feast_1419', 'feast_0209', 'feast_1049', 'feast_1590', 'feast_0243', 'feast_0166', 'feast_1743', 'feast_0199', 'feast_0887', 'feast_0496', 'feast_0721', 'feast_0830', 'feast_1427', 'feast_0763', 'feast_0318', 'feast_0948', 'feast_1482', 'feast_0779', 'feast_0434', 'feast_0049', 'feast_0653', 'feast_1129', 'feast_1314', 'feast_1063', 'feast_0480', 'feast_1644', 'feast_0766', 'feast_0036', 'feast_0084', 'feast_1096', 'feast_1819', 'feast_0522', 'feast_0550', 'feast_1695', 'feast_0608', 'feast_0756', 'feast_1018', 'feast_0856', 'feast_1398', 'feast_0469', 'feast_1498', 'feast_0605', 'feast_1318', 'feast_0052', 'feast_1145', 'feast_0285', 'feast_1021', 'feast_0029', 'feast_0768', 'feast_1813', 'feast_0023', 'feast_1567', 'feast_0646', 'feast_0601', 'feast_1770', 'feast_0862', 'feast_0466', 'feast_0672', 'feast_0259', 'feast_0373', 'feast_0944', 'feast_0977', 'feast_0269', 'feast_0579', 'feast_0860', 'feast_1347', 'feast_1311', 'feast_1062', 'feast_0691', 'feast_0858', 'feast_0784', 'feast_1201', 'feast_1279', 'feast_0638', 'feast_0375', 'feast_0769', 'feast_0865', 'feast_0744', 'feast_0668', 'feast_0314', 'feast_0995', 'feast_0863', 'feast_1552', 'feast_0151', 'feast_0485', 'feast_0634', 'feast_0334', 'feast_1452', 'feast_1060', 'feast_1518', 'feast_1475', 'feast_0929', 'feast_1484', 'feast_0316', 'feast_0771', 'feast_1357', 'feast_0859', 'feast_1685', 'feast_1656', 'feast_1537', 'feast_0381', 'feast_1264', 'feast_0481', 'feast_0886', 'feast_0782', 'feast_1122', 'feast_1688', 'feast_0527', 'feast_1724', 'feast_0975', 'feast_1713', 'feast_0770', 'feast_0292', 'feast_0675', 'feast_0482', 'feast_0614', 'feast_0246', 'feast_1019', 'feast_0641', 'feast_0703', 'feast_1682', 'feast_0081', 'feast_0378', 'feast_1629', 'feast_1487', 'feast_0494', 'feast_1411', 'feast_1415', 'feast_1646', 'feast_0184', 'feast_1065', 'feast_1617', 'feast_0861', 'feast_0005', 'feast_1652', 'feast_1106', 'feast_1723', 'feast_0889', 'feast_0279', 'feast_0930', 'feast_1059', 'feast_1123', 'feast_0268', 'feast_0844', 'feast_1536', 'feast_0542', 'feast_0185', 'feast_1443', 'feast_1288', 'feast_1771', 'feast_0385', 'feast_1119', 'feast_1545', 'feast_0053', 'feast_0842', 'feast_1503', 'feast_0271', 'feast_1814', 'feast_1313', 'feast_0044', 'feast_0738', 'feast_0301', 'feast_0118', 'feast_1477', 'feast_1591', 'feast_1489', 'feast_0708', 'feast_0097', 'feast_1026', 'feast_0284', 'feast_0364', 'feast_0069', 'feast_0883', 'feast_0235', 'feast_1659', 'feast_1345', 'feast_0734', 'feast_0344', 'feast_1689', 'feast_1447', 'feast_0899', 'feast_0266', 'feast_0966', 'feast_0363', 'feast_0456', 'feast_0477', 'feast_0817', 'feast_0361', 'feast_1625', 'feast_0714', 'feast_1807', 'feast_1698', 'feast_0519', 'feast_0962', 'feast_0834', 'feast_1024', 'feast_1216', 'feast_0479', 'feast_0197', 'feast_1439', 'feast_0619', 'feast_1260', 'feast_0264', 'feast_1464', 'feast_0090', 'feast_0711', 'feast_1610', 'feast_0384', 'feast_1742', 'feast_1828', 'feast_0295', 'feast_1239', 'feast_1368', 'feast_0588', 'feast_1231', 'feast_1277', 'feast_0563', 'feast_0826', 'feast_1022', 'feast_1207', 'feast_0037', 'feast_1700', 'feast_0908', 'feast_1084', 'feast_1693', 'feast_0125', 'feast_0096', 'feast_0787', 'feast_0186', 'feast_0274', 'feast_0294', 'feast_1032', 'feast_0866', 'feast_1107', 'feast_1672', 'feast_0901', 'feast_0741', 'feast_0854', 'feast_1645', 'feast_0140', 'feast_0882', 'feast_1636', 'feast_1222', 'feast_1194', 'feast_1681', 'feast_0823', 'feast_0169', 'feast_1371', 'feast_0183', 'feast_0001', 'feast_0042', 'feast_0592', 'feast_1459', 'feast_1199', 'feast_1085', 'feast_0300', 'feast_1424', 'feast_1436', 'feast_1488', 'feast_1691', 'feast_0940', 'feast_1148', 'feast_1088', 'feast_0922', 'feast_1118', 'feast_0825', 'feast_1560', 'feast_0888', 'feast_0867', 'feast_1425', 'feast_0652', 'feast_0283', 'feast_1140', 'feast_0159', 'feast_1747', 'feast_0748', 'feast_1653', 'feast_1748', 'feast_1103', 'feast_1153', 'feast_0956', 'feast_0683', 'feast_1658', 'feast_1099', 'feast_0366', 'feast_0852', 'feast_0203', 'feast_0754', 'feast_1529', 'feast_1253', 'feast_1504', 'feast_1224', 'feast_0308', 'feast_1675', 'feast_0991', 'feast_0720', 'feast_0223', 'feast_0785', 'feast_0585', 'feast_1607', 'feast_1707', 'feast_1596', 'feast_0309', 'feast_0435', 'feast_1315', 'feast_1320', 'feast_0583', 'feast_1322', 'feast_1328', 'feast_1246', 'feast_0492', 'feast_0549', 'feast_0540', 'feast_0546', 'feast_1372', 'feast_1500', 'feast_0250', 'feast_1421', 'feast_1143', 'feast_1550', 'feast_0387', 'feast_1329', 'feast_1438', 'feast_0050', 'feast_1090', 'feast_0715', 'feast_0877', 'feast_0645', 'feast_1683', 'feast_0365', 'feast_0561', 'feast_1193', 'feast_0035', 'feast_0317', 'feast_1346', 'feast_0248', 'feast_1714', 'feast_1820', 'feast_0885', 'feast_0976', 'feast_0136', 'feast_1414', 'feast_1069', 'feast_0593', 'feast_0909', 'feast_0626', 'feast_0851', 'feast_0615', 'feast_0537', 'feast_0814', 'feast_1577', 'feast_0917', 'feast_1291', 'feast_0499', 'feast_1142', 'feast_0727', 'feast_0879', 'feast_0612', 'feast_1792', 'feast_1729', 'feast_0873', 'feast_0021', 'feast_0267', 'feast_1308', 'feast_0357', 'feast_0236', 'feast_0843', 'feast_0226', 'feast_0164', 'feast_1342', 'feast_0213', 'feast_1676', 'feast_0322', 'feast_0497', 'feast_1808', 'feast_1269', 'feast_0590', 'feast_1483', 'feast_0215', 'feast_0774', 'feast_1703', 'feast_0256', 'feast_0961', 'feast_0881', 'feast_1790', 'feast_0955', 'feast_1563', 'feast_0307', 'feast_1706', 'feast_1035', 'feast_0722', 'feast_0362', 'feast_1440', 'feast_1657', 'feast_1760', 'feast_1364', 'feast_1091', 'feast_1734', 'feast_0659', 'feast_1666', 'feast_1017', 'feast_1431', 'feast_0914', 'feast_1052', 'feast_0571', 'feast_1626', 'feast_0127', 'feast_1233', 'feast_1270', 'feast_0622', 'feast_0498', 'feast_0015', 'feast_1476', 'feast_0647', 'feast_0204', 'feast_0422', 'feast_0616', 'feast_0776', 'feast_0030', 'feast_1114', 'feast_0523', 'feast_1080', 'feast_0529', 'feast_0101', 'feast_0906', 'feast_1803', 'feast_0560', 'feast_1527', 'feast_1275', 'feast_1761', 'feast_0894', 'feast_0915', 'feast_0686', 'feast_1697', 'feast_1594', 'feast_1554', 'feast_0018', 'feast_0280', 'feast_0257', 'feast_0945', 'feast_0290', 'feast_0869', 'feast_1678', 'feast_0288', 'feast_1597', 'feast_1218', 'feast_1120', 'feast_0218', 'feast_1324', 'feast_0855', 'feast_0649', 'feast_0418', 'feast_1603', 'feast_0655', 'feast_1608', 'feast_1736', 'feast_1265', 'feast_0684', 'feast_1466', 'feast_0201', 'feast_1569', 'feast_0520', 'feast_0716', 'feast_1333', 'feast_0661', 'feast_0648', 'feast_0954', 'feast_1401', 'feast_1285', 'feast_0685', 'feast_1360', 'feast_1131', 'feast_1325', 'feast_1453', 'feast_1561', 'feast_0286', 'feast_0717', 'feast_0594', 'feast_0603', 'feast_1023', 'feast_1750', 'feast_0095', 'feast_1699', 'feast_0320', 'feast_1741', 'feast_1543', 'feast_1496', 'feast_0161', 'feast_1606', 'feast_1429', 'feast_0254', 'feast_1248', 'feast_1251', 'feast_0038', 'feast_0554', 'feast_1677', 'feast_1393', 'feast_1812', 'feast_1317', 'feast_0928', 'feast_1247', 'feast_0897', 'feast_0195', 'feast_0356', 'feast_0820', 'feast_0489', 'feast_1426', 'feast_1602', 'feast_1584', 'feast_0089', 'feast_0367', 'feast_0627', 'feast_0573', 'feast_1557', 'feast_0802', 'feast_0443', 'feast_1643', 'feast_1601', 'feast_0750', 'feast_0822', 'feast_1800', 'feast_0749', 'feast_1215', 'feast_1243', 'feast_1815', 'feast_1396', 'feast_1615', 'feast_1809', 'feast_1478', 'feast_1397']\n"
     ]
    }
   ],
   "source": [
    "# Select \"more serious\" feasts - having more than 10 records of antiphons or responsories\n",
    "freq_of_feasts = chants['feast_id'].value_counts()\n",
    "feasts_without_little = freq_of_feasts.drop(freq_of_feasts[freq_of_feasts.values < 10].index).index.tolist()\n",
    "print(feasts_without_little)"
   ]
  },
  {
   "cell_type": "code",
   "execution_count": 18,
   "metadata": {},
   "outputs": [],
   "source": [
    "def get_distance_matrix_one_feast(compare_func, sources, sources_dict, source_chants_dict):\n",
    "    ''' \n",
    "    Constructs distance matrix for sources with specified subset of chants\n",
    "    (for example by feast)\n",
    "    '''\n",
    "    distance_matrix = np.zeros([len(sources), len(sources)])\n",
    "    for s_i in sources:\n",
    "        for s_j in sources:\n",
    "            distance_matrix[sources_dict[s_i], sources_dict[s_j]] = 1 - compare_func(source_chants_dict[s_i], source_chants_dict[s_j])\n",
    "    \n",
    "    return distance_matrix"
   ]
  },
  {
   "cell_type": "code",
   "execution_count": 25,
   "metadata": {},
   "outputs": [
    {
     "name": "stdout",
     "output_type": "stream",
     "text": [
      "Feast\t\tin_sources\tnoise_samples\n",
      "Antiphonae Majores\t104\t37\n",
      "Briccii\t81\t36\n",
      "Fer. 2 Hebd. 3 Adv.\t98\t43\n",
      "Fer. 3 Hebd. 3 Adv.\t99\t48\n",
      "Fer. 3 de Passione\t106\t31\n",
      "Fer. 4 Hebd. 4 Quad.\t105\t35\n",
      "Dom. 3 p. Pent.\t100\t42\n",
      "Fer. 2 Hebd. 3 Quad.\t106\t33\n",
      "Dom. 4 p. Pent.\t100\t48\n",
      "Fer. 2 Hebd. 4 Quad.\t108\t32\n",
      "Fer. 5 post Cineres\t105\t48\n",
      "Fer. 4 Hebd. 1 Quad.\t101\t38\n",
      "Fer. 6 Hebd. 1 Quad.\t102\t35\n",
      "Fer. 4 Hebd. 2 Quad.\t107\t24\n",
      "Fer. 4 de Passione\t107\t44\n",
      "Dom. 10 p. Pent.\t102\t39\n",
      "Dom. 22 p. Pent.\t99\t33\n",
      "Fer. 6 Hebd. 4 Quad.\t105\t29\n",
      "Dom. 11 p. Pent.\t103\t47\n",
      "Fer. 2 Hebd. 2 Quad.\t110\t29\n",
      "Dom. 21 p. Pent.\t99\t49\n",
      "Fer. 3 Hebd. 2 Quad.\t111\t33\n",
      "Fer. 6 Hebd. 2 Quad.\t108\t27\n",
      "Fer. 3 Hebd. 1 Quad.\t105\t51\n",
      "Dom. 18 p. Pent.\t98\t35\n",
      "Fer. 6 de Passione\t108\t33\n",
      "Fer. 6 Hebd. 1 Adv.\t97\t37\n",
      "Fer. 3 Hebd. 3 Quad.\t106\t27\n",
      "Fer. 5 de Passione\t107\t28\n",
      "Fer. 4 Hebd. 1 Adv.\t98\t35\n",
      "Fer. 4 Hebd. 3 Quad.\t107\t22\n",
      "Fer. 5 Hebd. 1 Adv.\t98\t39\n",
      "Dom. 23 p. Pent.\t98\t31\n",
      "Fer. 2 Hebd. 2 Adv.\t95\t26\n",
      "Dom. 24 p. Pent.\t93\t38\n",
      "Fer. 4 Hebd. 2 Adv.\t98\t25\n",
      "Fer. 6 Hebd. 2 Adv.\t97\t21\n",
      "Fer. 3 Hebd. 2 Adv.\t95\t26\n",
      "Fer. 5 Hebd. 2 Adv.\t97\t22\n",
      "Sabbato Hebd. 1 Adv.\t90\t40\n",
      "Sabbato Hebd. 2 Adv.\t94\t34\n",
      "Sabb. Hebd. 4 Quad.\t103\t33\n",
      "Sabb. Hebd. 3 Quad.\t98\t25\n",
      "Tiburtii, Susannae\t53\t10\n",
      "Suff. pro Pace\t20\t3\n",
      "Fer. 2 in estate\t13\t1\n",
      "Fer. 6 in estate\t12\t1\n",
      "Suff. Om. Sanct. Adv\t14\t2\n"
     ]
    }
   ],
   "source": [
    "# Look at each of bigger feasts and check noise samples\n",
    "# Prints out those with less than half samples classified as noisy\n",
    "print(\"Feast\\t\\tin_sources\\tnoise_samples\")\n",
    "at_leas_half = 0\n",
    "skiiped = 0\n",
    "for feast_id in feasts_without_little:\n",
    "    used_sources = []\n",
    "    source_chants_dict = {}\n",
    "    filt_feast = chants['feast_id'] == feast_id\n",
    "    chants_of_feast = chants[filt_feast]\n",
    "    for source_id in sources['drupal_path']:\n",
    "        filt_source = chants_of_feast['source_id'] == source_id\n",
    "        if (chants_of_feast[filt_source]['cantus_id']).tolist() != []:\n",
    "            used_sources.append(source_id)\n",
    "            source_chants_dict[source_id] = (chants_of_feast[filt_source]['cantus_id']).tolist()\n",
    "\n",
    "    if used_sources == []:\n",
    "        skiiped += 1\n",
    "        continue\n",
    "    source_dict = OrderedDict()\n",
    "    i = 0\n",
    "    for id in used_sources:\n",
    "        source_dict[id] = i\n",
    "        i += 1\n",
    "    \n",
    "    distance_matrix = get_distance_matrix_one_feast(jaccard_dist, used_sources, source_dict, source_chants_dict)\n",
    "    clustering = DBSCAN(eps=0.2, min_samples=9)\n",
    "    clustering.fit(distance_matrix)\n",
    "    \n",
    "    unique, counts = np.unique(clustering.labels_, return_counts=True)\n",
    "    counts_dict = dict(zip(unique, counts))\n",
    "\n",
    "    if(counts_dict[-1] < (len(used_sources)/2)):\n",
    "        at_leas_half += 1\n",
    "        print(str(feasts[feasts['id'] == feast_id]['name'].values[0])+'\\t'+str(len(used_sources))+'\\t'+str(counts_dict[-1]))"
   ]
  },
  {
   "cell_type": "code",
   "execution_count": 30,
   "metadata": {},
   "outputs": [
    {
     "name": "stdout",
     "output_type": "stream",
     "text": [
      "number of feasts with at least 10 chants: 918\n",
      "number of feasts from those with at least 10 chants that has less than half samples noise: 48\n"
     ]
    }
   ],
   "source": [
    "print('number of feasts with at least 10 chants:', len(feasts_without_little))\n",
    "print('number of feasts from those with at least 10 chants that has less than half samples noise:', at_leas_half)"
   ]
  }
 ],
 "metadata": {
  "kernelspec": {
   "display_name": "myvenv",
   "language": "python",
   "name": "python3"
  },
  "language_info": {
   "codemirror_mode": {
    "name": "ipython",
    "version": 3
   },
   "file_extension": ".py",
   "mimetype": "text/x-python",
   "name": "python",
   "nbconvert_exporter": "python",
   "pygments_lexer": "ipython3",
   "version": "3.11.6"
  }
 },
 "nbformat": 4,
 "nbformat_minor": 2
}
