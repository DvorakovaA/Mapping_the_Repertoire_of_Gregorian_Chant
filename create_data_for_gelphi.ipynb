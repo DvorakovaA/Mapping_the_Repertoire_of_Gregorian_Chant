{
 "cells": [
  {
   "cell_type": "markdown",
   "metadata": {},
   "source": [
    "Creating datafile for Gelphi network:\n",
    "* nodes = sources\n",
    "* edges = weighted by number of shared chants between such sources - intersection and Jaccard options"
   ]
  },
  {
   "cell_type": "code",
   "execution_count": 57,
   "metadata": {},
   "outputs": [],
   "source": [
    "import pandas as pd\n",
    "\n",
    "# Reading csv files\n",
    "responsories_all = pd.read_csv('all-ci-responsories.csv', usecols=['id', 'cantus_id', 'siglum', 'source_id', 'feast_id'], dtype={'cantus_id':\"str\"})\n",
    "antiphons_all = pd.read_csv('all-ci-antiphons.csv', usecols=['id', 'cantus_id', 'siglum', 'source_id', 'feast_id'], dtype={'cantus_id':\"str\"})\n",
    "\n",
    "sources = pd.read_csv('source.csv', usecols=['id', 'provenance_id', 'drupal_path'])\n",
    "feasts = pd.read_csv('feast.csv', usecols=['id', 'name'])\n",
    "\n",
    "# Add sources to data \n",
    "respo_with_sources = pd.merge(responsories_all, sources, how='inner', left_on='source_id', right_on='drupal_path')\n",
    "antipho_with_sources = pd.merge(antiphons_all, sources, how='inner', left_on='source_id', right_on='id')\n",
    "\n",
    "# Merge responsories and antiphons\n",
    "data = pd.concat([respo_with_sources, antipho_with_sources])"
   ]
  },
  {
   "cell_type": "code",
   "execution_count": 58,
   "metadata": {},
   "outputs": [],
   "source": [
    "# Filter sources to avoid working with fragments etc\n",
    "freq_of_sources = data['drupal_path'].value_counts()\n",
    "bigger_sources = freq_of_sources.drop(freq_of_sources[freq_of_sources.values < 100].index).index.tolist()\n",
    "sources_f = sources[sources['drupal_path'].isin(bigger_sources)]"
   ]
  },
  {
   "cell_type": "code",
   "execution_count": 59,
   "metadata": {},
   "outputs": [],
   "source": [
    "# Source translate to int for smooth matrix indexing \n",
    "from collections import OrderedDict\n",
    "\n",
    "source_dict = OrderedDict()\n",
    "i = 0\n",
    "for id in sources_f['drupal_path']:\n",
    "    source_dict[id] = i\n",
    "    i += 1\n",
    "    \n",
    "\n",
    "def translate_source(source_id):\n",
    "    return source_dict[source_id]"
   ]
  },
  {
   "cell_type": "code",
   "execution_count": 60,
   "metadata": {},
   "outputs": [],
   "source": [
    "def intersection_size(a, b):\n",
    "    return len(set(a) & set(b))"
   ]
  },
  {
   "cell_type": "code",
   "execution_count": 61,
   "metadata": {},
   "outputs": [],
   "source": [
    "def Jaccard_metrics(a, b):\n",
    "    return (set(a) & set(b)) / (set(a) | set(b))"
   ]
  },
  {
   "cell_type": "code",
   "execution_count": 62,
   "metadata": {},
   "outputs": [],
   "source": [
    "# Get datafile for building network in Gelphi\n",
    "import numpy as np\n",
    "def get_data_for_one_feast(feast_id, compare_func):\n",
    "    source_chants_dict = {}\n",
    "    filt_feast = data['feast_id'] == feast_id\n",
    "    chants_of_feast = data[filt_feast]\n",
    "    for source_id in sources_f['drupal_path']:\n",
    "        filt_source = chants_of_feast['drupal_path'] == source_id\n",
    "        source_chants_dict[source_id] = (chants_of_feast[filt_source]['cantus_id']).tolist()\n",
    "    \n",
    "    all_pairs = [(a, b) for idx, a in enumerate(sources_f['drupal_path']) for b in sources_f['drupal_path'].tolist()[idx + 1:]]\n",
    "    \n",
    "    data_matrix = np.zeros([len(sources_f), len(sources_f)])\n",
    "    for s_i, s_j in all_pairs:\n",
    "        data_matrix[translate_source(s_i), translate_source(s_j)] = compare_func(source_chants_dict[s_i], source_chants_dict[s_j])\n",
    "    \n",
    "    return data_matrix\n",
    "    "
   ]
  },
  {
   "cell_type": "code",
   "execution_count": 63,
   "metadata": {},
   "outputs": [],
   "source": [
    "def get_data_or_more_feasts(ids_list):\n",
    "    pass"
   ]
  },
  {
   "cell_type": "code",
   "execution_count": 66,
   "metadata": {},
   "outputs": [],
   "source": [
    "def build_data_csv(data_matrix):\n",
    "    with open('source_feast_gephi.csv', 'w') as f:\n",
    "        f.write(';'+';'.join(sources_f['drupal_path'].tolist())+'\\n')\n",
    "        for source_id in sources_f['drupal_path']:\n",
    "            f.write(source_id)\n",
    "            for i in range(len(sources_f)):\n",
    "                f.write(';'+str(data_matrix[translate_source(source_id), i]))\n",
    "            f.write('\\n')"
   ]
  },
  {
   "cell_type": "code",
   "execution_count": 67,
   "metadata": {},
   "outputs": [],
   "source": [
    "build_data_csv(get_data_for_one_feast(\"feast_0438\", intersection_size))\n",
    "#build_data_csv(get_data_for_one_feast(\"feast_0357\", Jaccard_metrics))"
   ]
  }
 ],
 "metadata": {
  "kernelspec": {
   "display_name": "myvenv",
   "language": "python",
   "name": "python3"
  },
  "language_info": {
   "codemirror_mode": {
    "name": "ipython",
    "version": 3
   },
   "file_extension": ".py",
   "mimetype": "text/x-python",
   "name": "python",
   "nbconvert_exporter": "python",
   "pygments_lexer": "ipython3",
   "version": "3.11.6"
  }
 },
 "nbformat": 4,
 "nbformat_minor": 2
}
