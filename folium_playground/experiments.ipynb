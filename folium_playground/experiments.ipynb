{
 "cells": [
  {
   "cell_type": "code",
   "execution_count": 1,
   "metadata": {},
   "outputs": [
    {
     "name": "stdout",
     "output_type": "stream",
     "text": [
      "(1, 2, 1)\n",
      "(2, 5, 7)\n",
      "(0, 6, 5)\n",
      "(1, 7, 5)\n",
      "(3, 7, 2)\n",
      "(0, 4, 5)\n"
     ]
    }
   ],
   "source": [
    "import folium\n",
    "from folium.plugins import MarkerCluster\n",
    "import matplotlib.pyplot as plt\n",
    "from matplotlib.colors import TwoSlopeNorm, rgb2hex\n",
    "\n",
    "cluster_it = False\n",
    "communities = [{3, 7, 1}, {2, 5}, {0, 4, 6}]\n",
    "edges = {(3, 7, 2), (1, 7, 5), (1, 2, 1), (0, 4, 5), (0, 6, 5), (2, 5, 7)}\n",
    "coordinates = [[48.090833 ,13.877222], [47.766943,12.457000], [43.928889,2.146389], [50.883333,20.616667], [47.1351,15.2851], [50.0875,14.421389], [45.466667 ,9.166667], [52.21962,-3.93517]]\n",
    "sizes_of_vertices = [2, 3, 7, 6, 5, 5, 2, 4]\n",
    "map_centre = [47.466667, 11.166667] # Centre of returned maps\n",
    "map = folium.Map(map_centre, zoom_start=5, height='70%', width='70%')\n",
    "\n",
    "cluster = MarkerCluster().add_to(map) \n",
    "\n",
    "cmap = plt.get_cmap('plasma')\n",
    "offset = TwoSlopeNorm(vmin = 0, vcenter= (len(communities) / 2), vmax = len(communities))\n",
    "colours = []\n",
    "for b in range(len(communities)):\n",
    "    scale = offset(b)\n",
    "    colour=rgb2hex(cmap(scale))\n",
    "    colours.append(colour)\n",
    "\n",
    "# Points\n",
    "i, j = 0, 0\n",
    "for community in communities:\n",
    "    com = folium.FeatureGroup(name=\"Community \" + str(i+1) , show=False).add_to(map)\n",
    "    for source in community:\n",
    "        info = \"<h4>\" + str(source) + \"</h4>\"\n",
    "        popup = folium.Popup(info, max_width=300, min_width =300)\n",
    "                \n",
    "        lat = coordinates[source][0]\n",
    "        long = coordinates[source][1]\n",
    "                #place point on map (variant cluster.add ... if not in comment above)\n",
    "        if cluster_it:\n",
    "            cluster.add_child(folium.CircleMarker(location=[lat , long], fill=True, color = colours[i],fill_opacity=0.4, popup=popup))\n",
    "        else:\n",
    "            #folium.CircleMarker(location=[lat , long], fill=True, color = colours[i],fill_opacity=0.4, popup=popup).add_to(folium.FeatureGroup(name='M').add_to(map))\n",
    "            #map.add_child(folium.CircleMarker(location=[lat , long], fill=True, color = colours[i],fill_opacity=0.4, popup=popup, radius = sizes_of_vertices[source] * 3))\n",
    "            folium.CircleMarker(location=[lat , long], fill=True, color = colours[i],\n",
    "                                fill_opacity=0.4, popup=popup, radius = sizes_of_vertices[source] * 3).add_to(com)\n",
    "        j += 1\n",
    "    i += 1\n",
    "\n",
    "# Lines\n",
    "for line in edges:\n",
    "    #if colours[line[0]] == colours[line[1]]:\n",
    "    #    colour = colours[line[0]]\n",
    "    #else:\n",
    "    print(line)\n",
    "    colour = 'black'\n",
    "    popup = folium.Popup(str(line[2]))\n",
    "    map.add_child(folium.PolyLine(locations=[coordinates[line[0]], coordinates[line[1]]], weight = line[2], popup=popup, color = colour))\n",
    "\n",
    "folium.LayerControl().add_to(map)           \n",
    "\n",
    "\n",
    "map.save('map_experiment.html')\n"
   ]
  },
  {
   "cell_type": "markdown",
   "metadata": {},
   "source": [
    "Notes:  \n",
    "- layer with switch for points works, but I cannot see any way of making lines/edges part of this\n",
    "- it seems to me, especially when we think about table/chart view as well, that "
   ]
  }
 ],
 "metadata": {
  "kernelspec": {
   "display_name": "myvenv",
   "language": "python",
   "name": "python3"
  },
  "language_info": {
   "codemirror_mode": {
    "name": "ipython",
    "version": 3
   },
   "file_extension": ".py",
   "mimetype": "text/x-python",
   "name": "python",
   "nbconvert_exporter": "python",
   "pygments_lexer": "ipython3",
   "version": "3.11.6"
  }
 },
 "nbformat": 4,
 "nbformat_minor": 2
}
