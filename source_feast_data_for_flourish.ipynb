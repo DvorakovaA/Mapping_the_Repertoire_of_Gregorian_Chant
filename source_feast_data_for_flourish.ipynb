{
 "cells": [
  {
   "cell_type": "markdown",
   "metadata": {},
   "source": [
    "Data for Flourish  \n",
    "Lets create 'source - feast matrix' and 'sorurce - feast network' in format that suits Flourish visualisation software\n"
   ]
  },
  {
   "cell_type": "code",
   "execution_count": 21,
   "metadata": {},
   "outputs": [],
   "source": [
    "import pandas as pd\n",
    "\n",
    "# Reading csv files\n",
    "responsories_all = pd.read_csv('all-ci-responsories.csv', usecols=['id', 'cantus_id', 'siglum', 'source_id', 'feast_id'], dtype={'cantus_id':\"str\"})\n",
    "antiphons_all = pd.read_csv('all-ci-antiphons.csv', usecols=['id', 'cantus_id', 'siglum', 'source_id', 'feast_id'], dtype={'cantus_id':\"str\"})\n",
    "\n",
    "sources = pd.read_csv('source.csv', usecols=['id', 'title', 'provenance_id', 'drupal_path'])\n",
    "feasts = pd.read_csv('feast.csv', usecols=['id', 'name'])\n",
    "\n",
    "# Add sources to data \n",
    "respo_with_sources = pd.merge(responsories_all, sources, how='inner', left_on='source_id', right_on='drupal_path')\n",
    "antipho_with_sources = pd.merge(antiphons_all, sources, how='inner', left_on='source_id', right_on='id')\n",
    "\n",
    "# Merge responsories and antiphons\n",
    "data = pd.concat([respo_with_sources, antipho_with_sources])"
   ]
  },
  {
   "cell_type": "code",
   "execution_count": 22,
   "metadata": {},
   "outputs": [],
   "source": [
    "# Filter sources to avoid working with fragments etc\n",
    "freq_of_sources = data['drupal_path'].value_counts()\n",
    "bigger_sources = freq_of_sources.drop(freq_of_sources[freq_of_sources.values < 100].index).index.tolist()\n",
    "sources_f = sources[sources['drupal_path'].isin(bigger_sources)]"
   ]
  },
  {
   "cell_type": "code",
   "execution_count": 23,
   "metadata": {},
   "outputs": [
    {
     "name": "stdout",
     "output_type": "stream",
     "text": [
      "number of all feasts in bigger sources: 911\n",
      "number of all bigger feasts in bigger sources: 131\n"
     ]
    }
   ],
   "source": [
    "# Filter feasts from filtered sources\n",
    "freq_of_feasts = data['feast_id'].value_counts()\n",
    "print(\"number of all feasts in bigger sources:\", len(freq_of_feasts))\n",
    "bigger_feasts = freq_of_feasts.drop(freq_of_feasts[freq_of_feasts.values < 10].index).index.tolist()\n",
    "print(\"number of all bigger feasts in bigger sources:\", len(bigger_sources))\n",
    "feasts_f = feasts[feasts['id'].isin(bigger_feasts)]"
   ]
  },
  {
   "cell_type": "code",
   "execution_count": 24,
   "metadata": {},
   "outputs": [],
   "source": [
    "# Get data without small sources and feasts\n",
    "data_f = data[data['drupal_path'].isin(sources_f['drupal_path'])]\n",
    "data_f = data_f[data_f['feast_id'].isin(feasts_f['id'])]"
   ]
  },
  {
   "cell_type": "code",
   "execution_count": 25,
   "metadata": {},
   "outputs": [],
   "source": [
    "# Dicts for feast and source ids\n",
    "from collections import OrderedDict\n",
    "source_dict = OrderedDict()\n",
    "i = 0\n",
    "for id in sources_f['drupal_path']:\n",
    "    source_dict[id] = i\n",
    "    i += 1\n",
    "\n",
    "feast_dict = OrderedDict()\n",
    "j = 0\n",
    "for id in feasts_f['id']:\n",
    "    feast_dict[id] = j\n",
    "    j += 1"
   ]
  },
  {
   "cell_type": "code",
   "execution_count": 26,
   "metadata": {},
   "outputs": [],
   "source": [
    "# Functions translating feast_ids to indexis\n",
    "def translate_feast(feast_id):\n",
    "    return feast_dict[feast_id] \n",
    "\n",
    "def translate_source(source_id):\n",
    "    return source_dict[source_id]"
   ]
  },
  {
   "cell_type": "code",
   "execution_count": 51,
   "metadata": {},
   "outputs": [],
   "source": [
    "import numpy as np\n",
    "\n",
    "# Make matrix sources vs feast\n",
    "complete_chart = np.zeros([len(sources_f), len(feasts_f)])\n",
    "# Fill the chart (aka Bitmapa)\n",
    "for row in data_f.index:\n",
    "    complete_chart[translate_source(data_f['drupal_path'][row]), translate_feast(data_f['feast_id'][row])] = 1"
   ]
  },
  {
   "cell_type": "code",
   "execution_count": 53,
   "metadata": {},
   "outputs": [
    {
     "name": "stdout",
     "output_type": "stream",
     "text": [
      "74539 74539 74539\n"
     ]
    }
   ],
   "source": [
    "# Get ready pandas data frame of 'source - feast' matrix\n",
    "import itertools\n",
    "\n",
    "len_f = len(feasts_f)\n",
    "s_column = list(itertools.chain.from_iterable([len_f * [s] for s in sources_f['title'].tolist()]))\n",
    "f_column = len(sources_f) * feasts_f['name'].tolist()\n",
    "\n",
    "presence_column = list(itertools.chain.from_iterable([row for row in complete_chart]))\n",
    "\n",
    "chart_source_feast = pd.DataFrame({'sources' : s_column,\n",
    "                                   'feasts' : f_column,\n",
    "                                   'presence': presence_column})\n"
   ]
  },
  {
   "cell_type": "code",
   "execution_count": null,
   "metadata": {},
   "outputs": [],
   "source": [
    "# Get desired csv of 'source - feast' matrix\n",
    "chart_source_feast.to_csv('flourish_source_feast_chart.csv')"
   ]
  }
 ],
 "metadata": {
  "kernelspec": {
   "display_name": "myvenv",
   "language": "python",
   "name": "python3"
  },
  "language_info": {
   "codemirror_mode": {
    "name": "ipython",
    "version": 3
   },
   "file_extension": ".py",
   "mimetype": "text/x-python",
   "name": "python",
   "nbconvert_exporter": "python",
   "pygments_lexer": "ipython3",
   "version": "3.11.6"
  }
 },
 "nbformat": 4,
 "nbformat_minor": 2
}
